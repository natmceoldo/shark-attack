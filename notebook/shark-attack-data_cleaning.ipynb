{
 "cells": [
  {
   "cell_type": "markdown",
   "id": "ff9cc825",
   "metadata": {},
   "source": [
    "# SHARK ATTACK - DATA CLEANING"
   ]
  },
  {
   "cell_type": "code",
   "execution_count": 1,
   "id": "42113826",
   "metadata": {},
   "outputs": [],
   "source": [
    "import pandas as pd\n",
    "import numpy as np"
   ]
  },
  {
   "cell_type": "code",
   "execution_count": 2,
   "id": "b7186514",
   "metadata": {},
   "outputs": [
    {
     "name": "stdout",
     "output_type": "stream",
     "text": [
      "Case Number,Date,Year,Type,Country,Area,Location,Activity,Name,Sex ,Age,Injury,Fatal (Y/N),Time,Species ,Investigator or Source,pdf,href formula,href,Case Number,Case Number,original order,,\n",
      "2018.06.25,25-Jun-2018,2018,Boating,USA,California,\"Oceanside, San Diego County\",Paddling,Julie Wolfe,F,57,\"No injury to occupant, outrigger canoe and paddle damaged\",N,18h00,White shark,\"R. Collier, GSAF\",2018.06.25-Wolfe.pdf,http://sharkattackfile.net/spreadsheets/pdf_directory/2018.06.25-Wolfe.pdf,http://sharkattackfile.net/spreadsheets/pdf_directory/2018.06.25-Wolfe.pdf,2018.06.25,2018.06.25,6303,,\n",
      "2018.06.18,18-Jun-2018,2018,Unprovoked,USA,Georgia,\"St. Simon Island, Glynn County\",Standing,Adyson McNeely ,F,11,Minor injury to left thigh,N,14h00  -15h00,,\"K.McMurray, TrackingSharks.com\",2018.06.18-McNeely.pdf,http://sharkattackfile.net/spreadsheets/pdf_directory/2018.06.18-McNeely.pdf,http://sharkattackfile.net/spreadsheets/pdf_directory/2018.06.18-McNeely.pdf,2018.06.18,2018.06.18,6302,,\n",
      "2018.06.09,09-Jun-2018,2018,Invalid,USA,Hawaii,\"Habush, Oahu\",Surfing,John Denges,M,48,Injury to left lower leg from surfboard skeg,N,07h45,,\"K.McMurray, TrackingSharks.com\",2018.06.09-Denges.pdf,http://sharkattackfile.net/spreadsheets/pdf_directory/2018.06.09-Denges.pdf,http://sharkattackfile.net/spreadsheets/pdf_directory/2018.06.09-Denges.pdf,2018.06.09,2018.06.09,6301,,\n",
      "2018.06.08,08-Jun-2018,2018,Unprovoked,AUSTRALIA,New South Wales,Arrawarra Headland,Surfing,male,M,,Minor injury to lower leg,N,,2 m shark,\"B. Myatt, GSAF\",2018.06.08-Arrawarra.pdf,http://sharkattackfile.net/spreadsheets/pdf_directory/2018.06.08-Arrawarra.pdf,http://sharkattackfile.net/spreadsheets/pdf_directory/2018.06.08-Arrawarra.pdf,2018.06.08,2018.06.08,6300,,\n",
      "2018.06.04,04-Jun-2018,2018,Provoked,MEXICO,Colima,La Ticla,Free diving,Gustavo Ramos ,M,,Lacerations to leg & hand shark PROVOKED INCIDENT,N,,\"Tiger shark, 3m\",A .Kipper,2018.06.04-Ramos.pdf,http://sharkattackfile.net/spreadsheets/pdf_directory/2018.06.04-Ramos.pdf,http://sharkattackfile.net/spreadsheets/pdf_directory/2018.06.04-Ramos.pdf,2018.06.04,2018.06.04,6299,,\n",
      "2018.06.03.b,03-Jun-2018,2018,Unprovoked,AUSTRALIA,New South Wales,\"Flat Rock, Ballina\",Kite surfing,Chris …,M,,\"No injury, board bitten\",N,,,\"Daily Telegraph, 6/4/2018\",2018.06.03.b-FlatRock.pdf,http://sharkattackfile.net/spreadsheets/pdf_directory/2018.06.03.b-FlatRock.pdf,http://sharkattackfile.net/spreadsheets/pdf_directory/2018.06.03.b-FlatRock.pdf,2018.06.03.b,2018.06.03.b,6298,,\n",
      "2018.06.03.a,03-Jun-2018,2018,Unprovoked,BRAZIL,Pernambuco,\"Piedade Beach, Recife\",Swimming,Jose Ernesto da Silva ,M,18,FATAL,Y,Late afternoon,Tiger shark,\"Diario de Pernambuco, 6/4/2018\",2018.06.03.a-daSilva.pdf,http://sharkattackfile.net/spreadsheets/pdf_directory/2018.06.03.a-daSilva.pdf,http://sharkattackfile.net/spreadsheets/pdf_directory/2018.06.03.a-daSilva.pdf,2018.06.03.a,2018.06.03.a,6297,,\n",
      "2018.05.27,27-May-2018,2018,Unprovoked,USA,Florida,\"Lighhouse Point Park, Ponce Inlet, Volusia County\",Fishing,male,M,52,Minor injury to foot. PROVOKED INCIDENT,N,,\"Lemon shark, 3'\",\"K. McMurray, TrackingSharks.com\",2018.05.27-Ponce.pdf,http://sharkattackfile.net/spreadsheets/pdf_directory/2018.05.27-Ponce.pdf,http://sharkattackfile.net/spreadsheets/pdf_directory/2018.05.27-Ponce.pdf,2018.05.27,2018.05.27,6296,,\n",
      "2018.05.26.b,26-May-2018,2018,Unprovoked,USA,Florida,\"Cocoa Beach, Brevard  County\",Walking,Cody High,M,15,Lower left leg bitten,N,17h00,\"Bull shark, 6'\",\"K.McMurray, TrackingSharks.com\",2018.05.26.b-High.pdf,http://sharkattackfile.net/spreadsheets/pdf_directory/2018.05.26.b-High.pdf,http://sharkattackfile.net/spreadsheets/pdf_directory/2018.05.26.b-High.pdf,2018.05.26.b,2018.05.26.b,6295,,\n"
     ]
    }
   ],
   "source": [
    "!head data/attacks.csv"
   ]
  },
  {
   "cell_type": "code",
   "execution_count": 3,
   "id": "0531e464",
   "metadata": {},
   "outputs": [],
   "source": [
    "#read the .csv data file\n",
    "#encoding is 'latin-1', if leave encoding at default value, it gives error\n",
    "df_attacks = pd.read_csv('data/attacks.csv', encoding='latin-1')"
   ]
  },
  {
   "cell_type": "code",
   "execution_count": 4,
   "id": "1e6198fc",
   "metadata": {},
   "outputs": [
    {
     "data": {
      "text/html": [
       "<div>\n",
       "<style scoped>\n",
       "    .dataframe tbody tr th:only-of-type {\n",
       "        vertical-align: middle;\n",
       "    }\n",
       "\n",
       "    .dataframe tbody tr th {\n",
       "        vertical-align: top;\n",
       "    }\n",
       "\n",
       "    .dataframe thead th {\n",
       "        text-align: right;\n",
       "    }\n",
       "</style>\n",
       "<table border=\"1\" class=\"dataframe\">\n",
       "  <thead>\n",
       "    <tr style=\"text-align: right;\">\n",
       "      <th></th>\n",
       "      <th>Case Number</th>\n",
       "      <th>Date</th>\n",
       "      <th>Year</th>\n",
       "      <th>Type</th>\n",
       "      <th>Country</th>\n",
       "      <th>Area</th>\n",
       "      <th>Location</th>\n",
       "      <th>Activity</th>\n",
       "      <th>Name</th>\n",
       "      <th>Sex</th>\n",
       "      <th>Age</th>\n",
       "      <th>Injury</th>\n",
       "      <th>Fatal (Y/N)</th>\n",
       "      <th>Time</th>\n",
       "      <th>Species</th>\n",
       "      <th>Investigator or Source</th>\n",
       "      <th>pdf</th>\n",
       "      <th>href formula</th>\n",
       "      <th>href</th>\n",
       "      <th>Case Number.1</th>\n",
       "      <th>Case Number.2</th>\n",
       "      <th>original order</th>\n",
       "      <th>Unnamed: 22</th>\n",
       "      <th>Unnamed: 23</th>\n",
       "    </tr>\n",
       "  </thead>\n",
       "  <tbody>\n",
       "    <tr>\n",
       "      <th>0</th>\n",
       "      <td>2018.06.25</td>\n",
       "      <td>25-Jun-2018</td>\n",
       "      <td>2018.0</td>\n",
       "      <td>Boating</td>\n",
       "      <td>USA</td>\n",
       "      <td>California</td>\n",
       "      <td>Oceanside, San Diego County</td>\n",
       "      <td>Paddling</td>\n",
       "      <td>Julie Wolfe</td>\n",
       "      <td>F</td>\n",
       "      <td>57</td>\n",
       "      <td>No injury to occupant, outrigger canoe and pad...</td>\n",
       "      <td>N</td>\n",
       "      <td>18h00</td>\n",
       "      <td>White shark</td>\n",
       "      <td>R. Collier, GSAF</td>\n",
       "      <td>2018.06.25-Wolfe.pdf</td>\n",
       "      <td>http://sharkattackfile.net/spreadsheets/pdf_di...</td>\n",
       "      <td>http://sharkattackfile.net/spreadsheets/pdf_di...</td>\n",
       "      <td>2018.06.25</td>\n",
       "      <td>2018.06.25</td>\n",
       "      <td>6303.0</td>\n",
       "      <td>NaN</td>\n",
       "      <td>NaN</td>\n",
       "    </tr>\n",
       "    <tr>\n",
       "      <th>1</th>\n",
       "      <td>2018.06.18</td>\n",
       "      <td>18-Jun-2018</td>\n",
       "      <td>2018.0</td>\n",
       "      <td>Unprovoked</td>\n",
       "      <td>USA</td>\n",
       "      <td>Georgia</td>\n",
       "      <td>St. Simon Island, Glynn County</td>\n",
       "      <td>Standing</td>\n",
       "      <td>Adyson McNeely</td>\n",
       "      <td>F</td>\n",
       "      <td>11</td>\n",
       "      <td>Minor injury to left thigh</td>\n",
       "      <td>N</td>\n",
       "      <td>14h00  -15h00</td>\n",
       "      <td>NaN</td>\n",
       "      <td>K.McMurray, TrackingSharks.com</td>\n",
       "      <td>2018.06.18-McNeely.pdf</td>\n",
       "      <td>http://sharkattackfile.net/spreadsheets/pdf_di...</td>\n",
       "      <td>http://sharkattackfile.net/spreadsheets/pdf_di...</td>\n",
       "      <td>2018.06.18</td>\n",
       "      <td>2018.06.18</td>\n",
       "      <td>6302.0</td>\n",
       "      <td>NaN</td>\n",
       "      <td>NaN</td>\n",
       "    </tr>\n",
       "    <tr>\n",
       "      <th>2</th>\n",
       "      <td>2018.06.09</td>\n",
       "      <td>09-Jun-2018</td>\n",
       "      <td>2018.0</td>\n",
       "      <td>Invalid</td>\n",
       "      <td>USA</td>\n",
       "      <td>Hawaii</td>\n",
       "      <td>Habush, Oahu</td>\n",
       "      <td>Surfing</td>\n",
       "      <td>John Denges</td>\n",
       "      <td>M</td>\n",
       "      <td>48</td>\n",
       "      <td>Injury to left lower leg from surfboard skeg</td>\n",
       "      <td>N</td>\n",
       "      <td>07h45</td>\n",
       "      <td>NaN</td>\n",
       "      <td>K.McMurray, TrackingSharks.com</td>\n",
       "      <td>2018.06.09-Denges.pdf</td>\n",
       "      <td>http://sharkattackfile.net/spreadsheets/pdf_di...</td>\n",
       "      <td>http://sharkattackfile.net/spreadsheets/pdf_di...</td>\n",
       "      <td>2018.06.09</td>\n",
       "      <td>2018.06.09</td>\n",
       "      <td>6301.0</td>\n",
       "      <td>NaN</td>\n",
       "      <td>NaN</td>\n",
       "    </tr>\n",
       "    <tr>\n",
       "      <th>3</th>\n",
       "      <td>2018.06.08</td>\n",
       "      <td>08-Jun-2018</td>\n",
       "      <td>2018.0</td>\n",
       "      <td>Unprovoked</td>\n",
       "      <td>AUSTRALIA</td>\n",
       "      <td>New South Wales</td>\n",
       "      <td>Arrawarra Headland</td>\n",
       "      <td>Surfing</td>\n",
       "      <td>male</td>\n",
       "      <td>M</td>\n",
       "      <td>NaN</td>\n",
       "      <td>Minor injury to lower leg</td>\n",
       "      <td>N</td>\n",
       "      <td>NaN</td>\n",
       "      <td>2 m shark</td>\n",
       "      <td>B. Myatt, GSAF</td>\n",
       "      <td>2018.06.08-Arrawarra.pdf</td>\n",
       "      <td>http://sharkattackfile.net/spreadsheets/pdf_di...</td>\n",
       "      <td>http://sharkattackfile.net/spreadsheets/pdf_di...</td>\n",
       "      <td>2018.06.08</td>\n",
       "      <td>2018.06.08</td>\n",
       "      <td>6300.0</td>\n",
       "      <td>NaN</td>\n",
       "      <td>NaN</td>\n",
       "    </tr>\n",
       "    <tr>\n",
       "      <th>4</th>\n",
       "      <td>2018.06.04</td>\n",
       "      <td>04-Jun-2018</td>\n",
       "      <td>2018.0</td>\n",
       "      <td>Provoked</td>\n",
       "      <td>MEXICO</td>\n",
       "      <td>Colima</td>\n",
       "      <td>La Ticla</td>\n",
       "      <td>Free diving</td>\n",
       "      <td>Gustavo Ramos</td>\n",
       "      <td>M</td>\n",
       "      <td>NaN</td>\n",
       "      <td>Lacerations to leg &amp; hand shark PROVOKED INCIDENT</td>\n",
       "      <td>N</td>\n",
       "      <td>NaN</td>\n",
       "      <td>Tiger shark, 3m</td>\n",
       "      <td>A .Kipper</td>\n",
       "      <td>2018.06.04-Ramos.pdf</td>\n",
       "      <td>http://sharkattackfile.net/spreadsheets/pdf_di...</td>\n",
       "      <td>http://sharkattackfile.net/spreadsheets/pdf_di...</td>\n",
       "      <td>2018.06.04</td>\n",
       "      <td>2018.06.04</td>\n",
       "      <td>6299.0</td>\n",
       "      <td>NaN</td>\n",
       "      <td>NaN</td>\n",
       "    </tr>\n",
       "    <tr>\n",
       "      <th>...</th>\n",
       "      <td>...</td>\n",
       "      <td>...</td>\n",
       "      <td>...</td>\n",
       "      <td>...</td>\n",
       "      <td>...</td>\n",
       "      <td>...</td>\n",
       "      <td>...</td>\n",
       "      <td>...</td>\n",
       "      <td>...</td>\n",
       "      <td>...</td>\n",
       "      <td>...</td>\n",
       "      <td>...</td>\n",
       "      <td>...</td>\n",
       "      <td>...</td>\n",
       "      <td>...</td>\n",
       "      <td>...</td>\n",
       "      <td>...</td>\n",
       "      <td>...</td>\n",
       "      <td>...</td>\n",
       "      <td>...</td>\n",
       "      <td>...</td>\n",
       "      <td>...</td>\n",
       "      <td>...</td>\n",
       "      <td>...</td>\n",
       "    </tr>\n",
       "    <tr>\n",
       "      <th>25718</th>\n",
       "      <td>NaN</td>\n",
       "      <td>NaN</td>\n",
       "      <td>NaN</td>\n",
       "      <td>NaN</td>\n",
       "      <td>NaN</td>\n",
       "      <td>NaN</td>\n",
       "      <td>NaN</td>\n",
       "      <td>NaN</td>\n",
       "      <td>NaN</td>\n",
       "      <td>NaN</td>\n",
       "      <td>NaN</td>\n",
       "      <td>NaN</td>\n",
       "      <td>NaN</td>\n",
       "      <td>NaN</td>\n",
       "      <td>NaN</td>\n",
       "      <td>NaN</td>\n",
       "      <td>NaN</td>\n",
       "      <td>NaN</td>\n",
       "      <td>NaN</td>\n",
       "      <td>NaN</td>\n",
       "      <td>NaN</td>\n",
       "      <td>NaN</td>\n",
       "      <td>NaN</td>\n",
       "      <td>NaN</td>\n",
       "    </tr>\n",
       "    <tr>\n",
       "      <th>25719</th>\n",
       "      <td>NaN</td>\n",
       "      <td>NaN</td>\n",
       "      <td>NaN</td>\n",
       "      <td>NaN</td>\n",
       "      <td>NaN</td>\n",
       "      <td>NaN</td>\n",
       "      <td>NaN</td>\n",
       "      <td>NaN</td>\n",
       "      <td>NaN</td>\n",
       "      <td>NaN</td>\n",
       "      <td>NaN</td>\n",
       "      <td>NaN</td>\n",
       "      <td>NaN</td>\n",
       "      <td>NaN</td>\n",
       "      <td>NaN</td>\n",
       "      <td>NaN</td>\n",
       "      <td>NaN</td>\n",
       "      <td>NaN</td>\n",
       "      <td>NaN</td>\n",
       "      <td>NaN</td>\n",
       "      <td>NaN</td>\n",
       "      <td>NaN</td>\n",
       "      <td>NaN</td>\n",
       "      <td>NaN</td>\n",
       "    </tr>\n",
       "    <tr>\n",
       "      <th>25720</th>\n",
       "      <td>NaN</td>\n",
       "      <td>NaN</td>\n",
       "      <td>NaN</td>\n",
       "      <td>NaN</td>\n",
       "      <td>NaN</td>\n",
       "      <td>NaN</td>\n",
       "      <td>NaN</td>\n",
       "      <td>NaN</td>\n",
       "      <td>NaN</td>\n",
       "      <td>NaN</td>\n",
       "      <td>NaN</td>\n",
       "      <td>NaN</td>\n",
       "      <td>NaN</td>\n",
       "      <td>NaN</td>\n",
       "      <td>NaN</td>\n",
       "      <td>NaN</td>\n",
       "      <td>NaN</td>\n",
       "      <td>NaN</td>\n",
       "      <td>NaN</td>\n",
       "      <td>NaN</td>\n",
       "      <td>NaN</td>\n",
       "      <td>NaN</td>\n",
       "      <td>NaN</td>\n",
       "      <td>NaN</td>\n",
       "    </tr>\n",
       "    <tr>\n",
       "      <th>25721</th>\n",
       "      <td>NaN</td>\n",
       "      <td>NaN</td>\n",
       "      <td>NaN</td>\n",
       "      <td>NaN</td>\n",
       "      <td>NaN</td>\n",
       "      <td>NaN</td>\n",
       "      <td>NaN</td>\n",
       "      <td>NaN</td>\n",
       "      <td>NaN</td>\n",
       "      <td>NaN</td>\n",
       "      <td>NaN</td>\n",
       "      <td>NaN</td>\n",
       "      <td>NaN</td>\n",
       "      <td>NaN</td>\n",
       "      <td>NaN</td>\n",
       "      <td>NaN</td>\n",
       "      <td>NaN</td>\n",
       "      <td>NaN</td>\n",
       "      <td>NaN</td>\n",
       "      <td>NaN</td>\n",
       "      <td>NaN</td>\n",
       "      <td>NaN</td>\n",
       "      <td>NaN</td>\n",
       "      <td>NaN</td>\n",
       "    </tr>\n",
       "    <tr>\n",
       "      <th>25722</th>\n",
       "      <td>xx</td>\n",
       "      <td>NaN</td>\n",
       "      <td>NaN</td>\n",
       "      <td>NaN</td>\n",
       "      <td>NaN</td>\n",
       "      <td>NaN</td>\n",
       "      <td>NaN</td>\n",
       "      <td>NaN</td>\n",
       "      <td>NaN</td>\n",
       "      <td>NaN</td>\n",
       "      <td>NaN</td>\n",
       "      <td>NaN</td>\n",
       "      <td>NaN</td>\n",
       "      <td>NaN</td>\n",
       "      <td>NaN</td>\n",
       "      <td>NaN</td>\n",
       "      <td>NaN</td>\n",
       "      <td>NaN</td>\n",
       "      <td>NaN</td>\n",
       "      <td>NaN</td>\n",
       "      <td>NaN</td>\n",
       "      <td>NaN</td>\n",
       "      <td>NaN</td>\n",
       "      <td>NaN</td>\n",
       "    </tr>\n",
       "  </tbody>\n",
       "</table>\n",
       "<p>25723 rows × 24 columns</p>\n",
       "</div>"
      ],
      "text/plain": [
       "      Case Number         Date    Year        Type    Country  \\\n",
       "0      2018.06.25  25-Jun-2018  2018.0     Boating        USA   \n",
       "1      2018.06.18  18-Jun-2018  2018.0  Unprovoked        USA   \n",
       "2      2018.06.09  09-Jun-2018  2018.0     Invalid        USA   \n",
       "3      2018.06.08  08-Jun-2018  2018.0  Unprovoked  AUSTRALIA   \n",
       "4      2018.06.04  04-Jun-2018  2018.0    Provoked     MEXICO   \n",
       "...           ...          ...     ...         ...        ...   \n",
       "25718         NaN          NaN     NaN         NaN        NaN   \n",
       "25719         NaN          NaN     NaN         NaN        NaN   \n",
       "25720         NaN          NaN     NaN         NaN        NaN   \n",
       "25721         NaN          NaN     NaN         NaN        NaN   \n",
       "25722          xx          NaN     NaN         NaN        NaN   \n",
       "\n",
       "                  Area                        Location     Activity  \\\n",
       "0           California     Oceanside, San Diego County     Paddling   \n",
       "1              Georgia  St. Simon Island, Glynn County     Standing   \n",
       "2               Hawaii                    Habush, Oahu      Surfing   \n",
       "3      New South Wales              Arrawarra Headland      Surfing   \n",
       "4               Colima                        La Ticla  Free diving   \n",
       "...                ...                             ...          ...   \n",
       "25718              NaN                             NaN          NaN   \n",
       "25719              NaN                             NaN          NaN   \n",
       "25720              NaN                             NaN          NaN   \n",
       "25721              NaN                             NaN          NaN   \n",
       "25722              NaN                             NaN          NaN   \n",
       "\n",
       "                  Name Sex   Age  \\\n",
       "0          Julie Wolfe    F   57   \n",
       "1      Adyson McNeely     F   11   \n",
       "2          John Denges    M   48   \n",
       "3                 male    M  NaN   \n",
       "4       Gustavo Ramos     M  NaN   \n",
       "...                ...  ...  ...   \n",
       "25718              NaN  NaN  NaN   \n",
       "25719              NaN  NaN  NaN   \n",
       "25720              NaN  NaN  NaN   \n",
       "25721              NaN  NaN  NaN   \n",
       "25722              NaN  NaN  NaN   \n",
       "\n",
       "                                                  Injury Fatal (Y/N)  \\\n",
       "0      No injury to occupant, outrigger canoe and pad...           N   \n",
       "1                             Minor injury to left thigh           N   \n",
       "2           Injury to left lower leg from surfboard skeg           N   \n",
       "3                              Minor injury to lower leg           N   \n",
       "4      Lacerations to leg & hand shark PROVOKED INCIDENT           N   \n",
       "...                                                  ...         ...   \n",
       "25718                                                NaN         NaN   \n",
       "25719                                                NaN         NaN   \n",
       "25720                                                NaN         NaN   \n",
       "25721                                                NaN         NaN   \n",
       "25722                                                NaN         NaN   \n",
       "\n",
       "                Time         Species           Investigator or Source  \\\n",
       "0              18h00      White shark                R. Collier, GSAF   \n",
       "1      14h00  -15h00              NaN  K.McMurray, TrackingSharks.com   \n",
       "2              07h45              NaN  K.McMurray, TrackingSharks.com   \n",
       "3                NaN        2 m shark                  B. Myatt, GSAF   \n",
       "4                NaN  Tiger shark, 3m                       A .Kipper   \n",
       "...              ...              ...                             ...   \n",
       "25718            NaN              NaN                             NaN   \n",
       "25719            NaN              NaN                             NaN   \n",
       "25720            NaN              NaN                             NaN   \n",
       "25721            NaN              NaN                             NaN   \n",
       "25722            NaN              NaN                             NaN   \n",
       "\n",
       "                            pdf  \\\n",
       "0          2018.06.25-Wolfe.pdf   \n",
       "1        2018.06.18-McNeely.pdf   \n",
       "2         2018.06.09-Denges.pdf   \n",
       "3      2018.06.08-Arrawarra.pdf   \n",
       "4          2018.06.04-Ramos.pdf   \n",
       "...                         ...   \n",
       "25718                       NaN   \n",
       "25719                       NaN   \n",
       "25720                       NaN   \n",
       "25721                       NaN   \n",
       "25722                       NaN   \n",
       "\n",
       "                                            href formula  \\\n",
       "0      http://sharkattackfile.net/spreadsheets/pdf_di...   \n",
       "1      http://sharkattackfile.net/spreadsheets/pdf_di...   \n",
       "2      http://sharkattackfile.net/spreadsheets/pdf_di...   \n",
       "3      http://sharkattackfile.net/spreadsheets/pdf_di...   \n",
       "4      http://sharkattackfile.net/spreadsheets/pdf_di...   \n",
       "...                                                  ...   \n",
       "25718                                                NaN   \n",
       "25719                                                NaN   \n",
       "25720                                                NaN   \n",
       "25721                                                NaN   \n",
       "25722                                                NaN   \n",
       "\n",
       "                                                    href Case Number.1  \\\n",
       "0      http://sharkattackfile.net/spreadsheets/pdf_di...    2018.06.25   \n",
       "1      http://sharkattackfile.net/spreadsheets/pdf_di...    2018.06.18   \n",
       "2      http://sharkattackfile.net/spreadsheets/pdf_di...    2018.06.09   \n",
       "3      http://sharkattackfile.net/spreadsheets/pdf_di...    2018.06.08   \n",
       "4      http://sharkattackfile.net/spreadsheets/pdf_di...    2018.06.04   \n",
       "...                                                  ...           ...   \n",
       "25718                                                NaN           NaN   \n",
       "25719                                                NaN           NaN   \n",
       "25720                                                NaN           NaN   \n",
       "25721                                                NaN           NaN   \n",
       "25722                                                NaN           NaN   \n",
       "\n",
       "      Case Number.2  original order Unnamed: 22 Unnamed: 23  \n",
       "0        2018.06.25          6303.0         NaN         NaN  \n",
       "1        2018.06.18          6302.0         NaN         NaN  \n",
       "2        2018.06.09          6301.0         NaN         NaN  \n",
       "3        2018.06.08          6300.0         NaN         NaN  \n",
       "4        2018.06.04          6299.0         NaN         NaN  \n",
       "...             ...             ...         ...         ...  \n",
       "25718           NaN             NaN         NaN         NaN  \n",
       "25719           NaN             NaN         NaN         NaN  \n",
       "25720           NaN             NaN         NaN         NaN  \n",
       "25721           NaN             NaN         NaN         NaN  \n",
       "25722           NaN             NaN         NaN         NaN  \n",
       "\n",
       "[25723 rows x 24 columns]"
      ]
     },
     "execution_count": 4,
     "metadata": {},
     "output_type": "execute_result"
    }
   ],
   "source": [
    "pd.set_option('display.max_columns', None) #display all columns\n",
    "df_attacks"
   ]
  },
  {
   "cell_type": "code",
   "execution_count": 5,
   "id": "1c428711",
   "metadata": {},
   "outputs": [
    {
     "name": "stdout",
     "output_type": "stream",
     "text": [
      "<class 'pandas.core.frame.DataFrame'>\n",
      "RangeIndex: 25723 entries, 0 to 25722\n",
      "Data columns (total 24 columns):\n",
      " #   Column                  Non-Null Count  Dtype  \n",
      "---  ------                  --------------  -----  \n",
      " 0   Case Number             8702 non-null   object \n",
      " 1   Date                    6302 non-null   object \n",
      " 2   Year                    6300 non-null   float64\n",
      " 3   Type                    6298 non-null   object \n",
      " 4   Country                 6252 non-null   object \n",
      " 5   Area                    5847 non-null   object \n",
      " 6   Location                5762 non-null   object \n",
      " 7   Activity                5758 non-null   object \n",
      " 8   Name                    6092 non-null   object \n",
      " 9   Sex                     5737 non-null   object \n",
      " 10  Age                     3471 non-null   object \n",
      " 11  Injury                  6274 non-null   object \n",
      " 12  Fatal (Y/N)             5763 non-null   object \n",
      " 13  Time                    2948 non-null   object \n",
      " 14  Species                 3464 non-null   object \n",
      " 15  Investigator or Source  6285 non-null   object \n",
      " 16  pdf                     6302 non-null   object \n",
      " 17  href formula            6301 non-null   object \n",
      " 18  href                    6302 non-null   object \n",
      " 19  Case Number.1           6302 non-null   object \n",
      " 20  Case Number.2           6302 non-null   object \n",
      " 21  original order          6309 non-null   float64\n",
      " 22  Unnamed: 22             1 non-null      object \n",
      " 23  Unnamed: 23             2 non-null      object \n",
      "dtypes: float64(2), object(22)\n",
      "memory usage: 4.7+ MB\n"
     ]
    }
   ],
   "source": [
    "df_attacks.info()"
   ]
  },
  {
   "cell_type": "code",
   "execution_count": 6,
   "id": "3f6c36d4",
   "metadata": {},
   "outputs": [
    {
     "data": {
      "text/plain": [
       "stopped here    1\n",
       "Name: Unnamed: 22, dtype: int64"
      ]
     },
     "execution_count": 6,
     "metadata": {},
     "output_type": "execute_result"
    }
   ],
   "source": [
    "df_attacks['Unnamed: 22'].value_counts()"
   ]
  },
  {
   "cell_type": "code",
   "execution_count": 7,
   "id": "78872809",
   "metadata": {},
   "outputs": [
    {
     "data": {
      "text/plain": [
       "Teramo             1\n",
       "change filename    1\n",
       "Name: Unnamed: 23, dtype: int64"
      ]
     },
     "execution_count": 7,
     "metadata": {},
     "output_type": "execute_result"
    }
   ],
   "source": [
    "df_attacks['Unnamed: 23'].value_counts()"
   ]
  },
  {
   "cell_type": "markdown",
   "id": "678a04d5",
   "metadata": {},
   "source": [
    "**Note 1: Columns 22 and 23 are useless, no valid information because it has only one or two non-null values.**"
   ]
  },
  {
   "cell_type": "code",
   "execution_count": 8,
   "id": "e326f3fb",
   "metadata": {},
   "outputs": [
    {
     "data": {
      "text/html": [
       "<div>\n",
       "<style scoped>\n",
       "    .dataframe tbody tr th:only-of-type {\n",
       "        vertical-align: middle;\n",
       "    }\n",
       "\n",
       "    .dataframe tbody tr th {\n",
       "        vertical-align: top;\n",
       "    }\n",
       "\n",
       "    .dataframe thead th {\n",
       "        text-align: right;\n",
       "    }\n",
       "</style>\n",
       "<table border=\"1\" class=\"dataframe\">\n",
       "  <thead>\n",
       "    <tr style=\"text-align: right;\">\n",
       "      <th></th>\n",
       "      <th>count</th>\n",
       "      <th>mean</th>\n",
       "      <th>std</th>\n",
       "      <th>min</th>\n",
       "      <th>25%</th>\n",
       "      <th>50%</th>\n",
       "      <th>75%</th>\n",
       "      <th>max</th>\n",
       "    </tr>\n",
       "  </thead>\n",
       "  <tbody>\n",
       "    <tr>\n",
       "      <th>Year</th>\n",
       "      <td>6300.0</td>\n",
       "      <td>1927.272381</td>\n",
       "      <td>281.116308</td>\n",
       "      <td>0.0</td>\n",
       "      <td>1942.0</td>\n",
       "      <td>1977.0</td>\n",
       "      <td>2005.0</td>\n",
       "      <td>2018.0</td>\n",
       "    </tr>\n",
       "    <tr>\n",
       "      <th>original order</th>\n",
       "      <td>6309.0</td>\n",
       "      <td>3155.999683</td>\n",
       "      <td>1821.396206</td>\n",
       "      <td>2.0</td>\n",
       "      <td>1579.0</td>\n",
       "      <td>3156.0</td>\n",
       "      <td>4733.0</td>\n",
       "      <td>6310.0</td>\n",
       "    </tr>\n",
       "  </tbody>\n",
       "</table>\n",
       "</div>"
      ],
      "text/plain": [
       "                 count         mean          std  min     25%     50%     75%  \\\n",
       "Year            6300.0  1927.272381   281.116308  0.0  1942.0  1977.0  2005.0   \n",
       "original order  6309.0  3155.999683  1821.396206  2.0  1579.0  3156.0  4733.0   \n",
       "\n",
       "                   max  \n",
       "Year            2018.0  \n",
       "original order  6310.0  "
      ]
     },
     "execution_count": 8,
     "metadata": {},
     "output_type": "execute_result"
    }
   ],
   "source": [
    "df_attacks.describe().T"
   ]
  },
  {
   "cell_type": "markdown",
   "id": "57d2342b",
   "metadata": {},
   "source": [
    "There is no much useful information with this `describe()`. Actually, the best information is that the most recent attack registered in this dataset ocurred in 2018, but so far, it is not possible to know which year was the first attack from this dataset.\n",
    "\n",
    "The `original order` also does not add anything meaningful."
   ]
  },
  {
   "cell_type": "code",
   "execution_count": 9,
   "id": "3f3c1469",
   "metadata": {},
   "outputs": [
    {
     "data": {
      "text/plain": [
       "19411"
      ]
     },
     "execution_count": 9,
     "metadata": {},
     "output_type": "execute_result"
    }
   ],
   "source": [
    "#checking how many duplicateds\n",
    "df_attacks.duplicated().sum()"
   ]
  },
  {
   "cell_type": "markdown",
   "id": "04aa23d1",
   "metadata": {},
   "source": [
    "Lots of dupes: **19411**"
   ]
  },
  {
   "cell_type": "markdown",
   "id": "4e34aa79",
   "metadata": {},
   "source": [
    "---\n",
    "## Start cleaning"
   ]
  },
  {
   "cell_type": "code",
   "execution_count": 10,
   "id": "bd3c41e6",
   "metadata": {},
   "outputs": [],
   "source": [
    "#droping duplicates\n",
    "df_attacks.drop_duplicates(inplace=True)\n",
    "\n",
    "#droping useless columns for exploratory analysis\n",
    "columns_to_drop = ['Case Number', 'Name', 'Investigator or Source', 'pdf', 'href formula','href',\\\n",
    "                   'Case Number.1', 'Case Number.2', 'original order', 'Unnamed: 22', 'Unnamed: 23']\n",
    "df_attacks.drop(columns=columns_to_drop, inplace=True)"
   ]
  },
  {
   "cell_type": "code",
   "execution_count": 11,
   "id": "e8ca5838",
   "metadata": {},
   "outputs": [
    {
     "data": {
      "text/html": [
       "<div>\n",
       "<style scoped>\n",
       "    .dataframe tbody tr th:only-of-type {\n",
       "        vertical-align: middle;\n",
       "    }\n",
       "\n",
       "    .dataframe tbody tr th {\n",
       "        vertical-align: top;\n",
       "    }\n",
       "\n",
       "    .dataframe thead th {\n",
       "        text-align: right;\n",
       "    }\n",
       "</style>\n",
       "<table border=\"1\" class=\"dataframe\">\n",
       "  <thead>\n",
       "    <tr style=\"text-align: right;\">\n",
       "      <th></th>\n",
       "      <th>Date</th>\n",
       "      <th>Year</th>\n",
       "      <th>Type</th>\n",
       "      <th>Country</th>\n",
       "      <th>Area</th>\n",
       "      <th>Location</th>\n",
       "      <th>Activity</th>\n",
       "      <th>Sex</th>\n",
       "      <th>Age</th>\n",
       "      <th>Injury</th>\n",
       "      <th>Fatal (Y/N)</th>\n",
       "      <th>Time</th>\n",
       "      <th>Species</th>\n",
       "    </tr>\n",
       "  </thead>\n",
       "  <tbody>\n",
       "    <tr>\n",
       "      <th>0</th>\n",
       "      <td>25-Jun-2018</td>\n",
       "      <td>2018.0</td>\n",
       "      <td>Boating</td>\n",
       "      <td>USA</td>\n",
       "      <td>California</td>\n",
       "      <td>Oceanside, San Diego County</td>\n",
       "      <td>Paddling</td>\n",
       "      <td>F</td>\n",
       "      <td>57</td>\n",
       "      <td>No injury to occupant, outrigger canoe and pad...</td>\n",
       "      <td>N</td>\n",
       "      <td>18h00</td>\n",
       "      <td>White shark</td>\n",
       "    </tr>\n",
       "    <tr>\n",
       "      <th>1</th>\n",
       "      <td>18-Jun-2018</td>\n",
       "      <td>2018.0</td>\n",
       "      <td>Unprovoked</td>\n",
       "      <td>USA</td>\n",
       "      <td>Georgia</td>\n",
       "      <td>St. Simon Island, Glynn County</td>\n",
       "      <td>Standing</td>\n",
       "      <td>F</td>\n",
       "      <td>11</td>\n",
       "      <td>Minor injury to left thigh</td>\n",
       "      <td>N</td>\n",
       "      <td>14h00  -15h00</td>\n",
       "      <td>NaN</td>\n",
       "    </tr>\n",
       "    <tr>\n",
       "      <th>2</th>\n",
       "      <td>09-Jun-2018</td>\n",
       "      <td>2018.0</td>\n",
       "      <td>Invalid</td>\n",
       "      <td>USA</td>\n",
       "      <td>Hawaii</td>\n",
       "      <td>Habush, Oahu</td>\n",
       "      <td>Surfing</td>\n",
       "      <td>M</td>\n",
       "      <td>48</td>\n",
       "      <td>Injury to left lower leg from surfboard skeg</td>\n",
       "      <td>N</td>\n",
       "      <td>07h45</td>\n",
       "      <td>NaN</td>\n",
       "    </tr>\n",
       "    <tr>\n",
       "      <th>3</th>\n",
       "      <td>08-Jun-2018</td>\n",
       "      <td>2018.0</td>\n",
       "      <td>Unprovoked</td>\n",
       "      <td>AUSTRALIA</td>\n",
       "      <td>New South Wales</td>\n",
       "      <td>Arrawarra Headland</td>\n",
       "      <td>Surfing</td>\n",
       "      <td>M</td>\n",
       "      <td>NaN</td>\n",
       "      <td>Minor injury to lower leg</td>\n",
       "      <td>N</td>\n",
       "      <td>NaN</td>\n",
       "      <td>2 m shark</td>\n",
       "    </tr>\n",
       "    <tr>\n",
       "      <th>4</th>\n",
       "      <td>04-Jun-2018</td>\n",
       "      <td>2018.0</td>\n",
       "      <td>Provoked</td>\n",
       "      <td>MEXICO</td>\n",
       "      <td>Colima</td>\n",
       "      <td>La Ticla</td>\n",
       "      <td>Free diving</td>\n",
       "      <td>M</td>\n",
       "      <td>NaN</td>\n",
       "      <td>Lacerations to leg &amp; hand shark PROVOKED INCIDENT</td>\n",
       "      <td>N</td>\n",
       "      <td>NaN</td>\n",
       "      <td>Tiger shark, 3m</td>\n",
       "    </tr>\n",
       "    <tr>\n",
       "      <th>...</th>\n",
       "      <td>...</td>\n",
       "      <td>...</td>\n",
       "      <td>...</td>\n",
       "      <td>...</td>\n",
       "      <td>...</td>\n",
       "      <td>...</td>\n",
       "      <td>...</td>\n",
       "      <td>...</td>\n",
       "      <td>...</td>\n",
       "      <td>...</td>\n",
       "      <td>...</td>\n",
       "      <td>...</td>\n",
       "      <td>...</td>\n",
       "    </tr>\n",
       "    <tr>\n",
       "      <th>3441</th>\n",
       "      <td>Feb-1969</td>\n",
       "      <td>1969.0</td>\n",
       "      <td>Invalid</td>\n",
       "      <td>AUSTRALIA</td>\n",
       "      <td>Queensland</td>\n",
       "      <td>Cooktown</td>\n",
       "      <td>Hard hat diving</td>\n",
       "      <td>M</td>\n",
       "      <td>52</td>\n",
       "      <td>No details</td>\n",
       "      <td>NaN</td>\n",
       "      <td>NaN</td>\n",
       "      <td>Questionable incident</td>\n",
       "    </tr>\n",
       "    <tr>\n",
       "      <th>3442</th>\n",
       "      <td>27-Jan-1969</td>\n",
       "      <td>1969.0</td>\n",
       "      <td>Unprovoked</td>\n",
       "      <td>AUSTRALIA</td>\n",
       "      <td>New South Wales</td>\n",
       "      <td>Beecroft Head</td>\n",
       "      <td>Freediving</td>\n",
       "      <td>M</td>\n",
       "      <td>21</td>\n",
       "      <td>Abrasions and lacerations to lower right leg</td>\n",
       "      <td>N</td>\n",
       "      <td>07h30</td>\n",
       "      <td>NaN</td>\n",
       "    </tr>\n",
       "    <tr>\n",
       "      <th>3443</th>\n",
       "      <td>Jan-1969</td>\n",
       "      <td>1969.0</td>\n",
       "      <td>Unprovoked</td>\n",
       "      <td>AUSTRALIA</td>\n",
       "      <td>Victoria</td>\n",
       "      <td>Port MacDonnel</td>\n",
       "      <td>NaN</td>\n",
       "      <td>M</td>\n",
       "      <td>NaN</td>\n",
       "      <td>Minor injury</td>\n",
       "      <td>N</td>\n",
       "      <td>NaN</td>\n",
       "      <td>Carpet shark</td>\n",
       "    </tr>\n",
       "    <tr>\n",
       "      <th>3444</th>\n",
       "      <td>Winter 1969</td>\n",
       "      <td>1969.0</td>\n",
       "      <td>Provoked</td>\n",
       "      <td>BAHAMAS</td>\n",
       "      <td>Eleuthera</td>\n",
       "      <td>NaN</td>\n",
       "      <td>Sight-seeing</td>\n",
       "      <td>NaN</td>\n",
       "      <td>NaN</td>\n",
       "      <td>No injury to occupants, shark grabbed prop, Le...</td>\n",
       "      <td>N</td>\n",
       "      <td>NaN</td>\n",
       "      <td>10' shark</td>\n",
       "    </tr>\n",
       "    <tr>\n",
       "      <th>3888</th>\n",
       "      <td>16-Jul-1961</td>\n",
       "      <td>1971.0</td>\n",
       "      <td>Unprovoked</td>\n",
       "      <td>TURKEY</td>\n",
       "      <td>Anatolia</td>\n",
       "      <td>?nciralti Beach, ?zmir</td>\n",
       "      <td>Swimming</td>\n",
       "      <td>M</td>\n",
       "      <td>16</td>\n",
       "      <td>Left leg injured</td>\n",
       "      <td>N</td>\n",
       "      <td>NaN</td>\n",
       "      <td>NaN</td>\n",
       "    </tr>\n",
       "  </tbody>\n",
       "</table>\n",
       "<p>3445 rows × 13 columns</p>\n",
       "</div>"
      ],
      "text/plain": [
       "             Date    Year        Type    Country             Area  \\\n",
       "0     25-Jun-2018  2018.0     Boating        USA       California   \n",
       "1     18-Jun-2018  2018.0  Unprovoked        USA          Georgia   \n",
       "2     09-Jun-2018  2018.0     Invalid        USA           Hawaii   \n",
       "3     08-Jun-2018  2018.0  Unprovoked  AUSTRALIA  New South Wales   \n",
       "4     04-Jun-2018  2018.0    Provoked     MEXICO           Colima   \n",
       "...           ...     ...         ...        ...              ...   \n",
       "3441     Feb-1969  1969.0     Invalid  AUSTRALIA       Queensland   \n",
       "3442  27-Jan-1969  1969.0  Unprovoked  AUSTRALIA  New South Wales   \n",
       "3443     Jan-1969  1969.0  Unprovoked  AUSTRALIA         Victoria   \n",
       "3444  Winter 1969  1969.0    Provoked    BAHAMAS        Eleuthera   \n",
       "3888  16-Jul-1961  1971.0  Unprovoked     TURKEY         Anatolia   \n",
       "\n",
       "                            Location         Activity Sex   Age  \\\n",
       "0        Oceanside, San Diego County         Paddling    F   57   \n",
       "1     St. Simon Island, Glynn County         Standing    F   11   \n",
       "2                       Habush, Oahu          Surfing    M   48   \n",
       "3                 Arrawarra Headland          Surfing    M  NaN   \n",
       "4                           La Ticla      Free diving    M  NaN   \n",
       "...                              ...              ...  ...  ...   \n",
       "3441                        Cooktown  Hard hat diving    M   52   \n",
       "3442                   Beecroft Head       Freediving    M   21   \n",
       "3443                  Port MacDonnel              NaN    M  NaN   \n",
       "3444                             NaN     Sight-seeing  NaN  NaN   \n",
       "3888         ?nciralti Beach, ?zmir          Swimming    M   16   \n",
       "\n",
       "                                                 Injury Fatal (Y/N)  \\\n",
       "0     No injury to occupant, outrigger canoe and pad...           N   \n",
       "1                            Minor injury to left thigh           N   \n",
       "2          Injury to left lower leg from surfboard skeg           N   \n",
       "3                             Minor injury to lower leg           N   \n",
       "4     Lacerations to leg & hand shark PROVOKED INCIDENT           N   \n",
       "...                                                 ...         ...   \n",
       "3441                                         No details         NaN   \n",
       "3442       Abrasions and lacerations to lower right leg           N   \n",
       "3443                                      Minor injury            N   \n",
       "3444  No injury to occupants, shark grabbed prop, Le...           N   \n",
       "3888                                   Left leg injured           N   \n",
       "\n",
       "               Time               Species   \n",
       "0             18h00            White shark  \n",
       "1     14h00  -15h00                    NaN  \n",
       "2             07h45                    NaN  \n",
       "3               NaN              2 m shark  \n",
       "4               NaN        Tiger shark, 3m  \n",
       "...             ...                    ...  \n",
       "3441            NaN  Questionable incident  \n",
       "3442          07h30                    NaN  \n",
       "3443            NaN           Carpet shark  \n",
       "3444            NaN              10' shark  \n",
       "3888            NaN                    NaN  \n",
       "\n",
       "[3445 rows x 13 columns]"
      ]
     },
     "execution_count": 11,
     "metadata": {},
     "output_type": "execute_result"
    }
   ],
   "source": [
    "#cleaning to analyse only the last 50 years of records\n",
    "df_attacks.query('1969 <= Year <= 2018', inplace=True)\n",
    "df_attacks"
   ]
  },
  {
   "cell_type": "code",
   "execution_count": 12,
   "id": "c13d3bc6",
   "metadata": {},
   "outputs": [],
   "source": [
    "#saving new clean .csv\n",
    "df_attacks.to_csv('data/attacks_cleaned.csv', index=False)"
   ]
  },
  {
   "cell_type": "code",
   "execution_count": 13,
   "id": "f12f4bc7",
   "metadata": {},
   "outputs": [
    {
     "data": {
      "text/html": [
       "<div>\n",
       "<style scoped>\n",
       "    .dataframe tbody tr th:only-of-type {\n",
       "        vertical-align: middle;\n",
       "    }\n",
       "\n",
       "    .dataframe tbody tr th {\n",
       "        vertical-align: top;\n",
       "    }\n",
       "\n",
       "    .dataframe thead th {\n",
       "        text-align: right;\n",
       "    }\n",
       "</style>\n",
       "<table border=\"1\" class=\"dataframe\">\n",
       "  <thead>\n",
       "    <tr style=\"text-align: right;\">\n",
       "      <th></th>\n",
       "      <th>Date</th>\n",
       "      <th>Year</th>\n",
       "      <th>Type</th>\n",
       "      <th>Country</th>\n",
       "      <th>Area</th>\n",
       "      <th>Location</th>\n",
       "      <th>Activity</th>\n",
       "      <th>Sex</th>\n",
       "      <th>Age</th>\n",
       "      <th>Injury</th>\n",
       "      <th>Fatal (Y/N)</th>\n",
       "      <th>Time</th>\n",
       "      <th>Species</th>\n",
       "    </tr>\n",
       "  </thead>\n",
       "  <tbody>\n",
       "    <tr>\n",
       "      <th>0</th>\n",
       "      <td>25-Jun-2018</td>\n",
       "      <td>2018.0</td>\n",
       "      <td>Boating</td>\n",
       "      <td>USA</td>\n",
       "      <td>California</td>\n",
       "      <td>Oceanside, San Diego County</td>\n",
       "      <td>Paddling</td>\n",
       "      <td>F</td>\n",
       "      <td>57</td>\n",
       "      <td>No injury to occupant, outrigger canoe and pad...</td>\n",
       "      <td>N</td>\n",
       "      <td>18h00</td>\n",
       "      <td>White shark</td>\n",
       "    </tr>\n",
       "    <tr>\n",
       "      <th>1</th>\n",
       "      <td>18-Jun-2018</td>\n",
       "      <td>2018.0</td>\n",
       "      <td>Unprovoked</td>\n",
       "      <td>USA</td>\n",
       "      <td>Georgia</td>\n",
       "      <td>St. Simon Island, Glynn County</td>\n",
       "      <td>Standing</td>\n",
       "      <td>F</td>\n",
       "      <td>11</td>\n",
       "      <td>Minor injury to left thigh</td>\n",
       "      <td>N</td>\n",
       "      <td>14h00  -15h00</td>\n",
       "      <td>NaN</td>\n",
       "    </tr>\n",
       "    <tr>\n",
       "      <th>2</th>\n",
       "      <td>09-Jun-2018</td>\n",
       "      <td>2018.0</td>\n",
       "      <td>Invalid</td>\n",
       "      <td>USA</td>\n",
       "      <td>Hawaii</td>\n",
       "      <td>Habush, Oahu</td>\n",
       "      <td>Surfing</td>\n",
       "      <td>M</td>\n",
       "      <td>48</td>\n",
       "      <td>Injury to left lower leg from surfboard skeg</td>\n",
       "      <td>N</td>\n",
       "      <td>07h45</td>\n",
       "      <td>NaN</td>\n",
       "    </tr>\n",
       "    <tr>\n",
       "      <th>3</th>\n",
       "      <td>08-Jun-2018</td>\n",
       "      <td>2018.0</td>\n",
       "      <td>Unprovoked</td>\n",
       "      <td>AUSTRALIA</td>\n",
       "      <td>New South Wales</td>\n",
       "      <td>Arrawarra Headland</td>\n",
       "      <td>Surfing</td>\n",
       "      <td>M</td>\n",
       "      <td>NaN</td>\n",
       "      <td>Minor injury to lower leg</td>\n",
       "      <td>N</td>\n",
       "      <td>NaN</td>\n",
       "      <td>2 m shark</td>\n",
       "    </tr>\n",
       "    <tr>\n",
       "      <th>4</th>\n",
       "      <td>04-Jun-2018</td>\n",
       "      <td>2018.0</td>\n",
       "      <td>Provoked</td>\n",
       "      <td>MEXICO</td>\n",
       "      <td>Colima</td>\n",
       "      <td>La Ticla</td>\n",
       "      <td>Free diving</td>\n",
       "      <td>M</td>\n",
       "      <td>NaN</td>\n",
       "      <td>Lacerations to leg &amp; hand shark PROVOKED INCIDENT</td>\n",
       "      <td>N</td>\n",
       "      <td>NaN</td>\n",
       "      <td>Tiger shark, 3m</td>\n",
       "    </tr>\n",
       "    <tr>\n",
       "      <th>...</th>\n",
       "      <td>...</td>\n",
       "      <td>...</td>\n",
       "      <td>...</td>\n",
       "      <td>...</td>\n",
       "      <td>...</td>\n",
       "      <td>...</td>\n",
       "      <td>...</td>\n",
       "      <td>...</td>\n",
       "      <td>...</td>\n",
       "      <td>...</td>\n",
       "      <td>...</td>\n",
       "      <td>...</td>\n",
       "      <td>...</td>\n",
       "    </tr>\n",
       "    <tr>\n",
       "      <th>3440</th>\n",
       "      <td>Feb-1969</td>\n",
       "      <td>1969.0</td>\n",
       "      <td>Invalid</td>\n",
       "      <td>AUSTRALIA</td>\n",
       "      <td>Queensland</td>\n",
       "      <td>Cooktown</td>\n",
       "      <td>Hard hat diving</td>\n",
       "      <td>M</td>\n",
       "      <td>52</td>\n",
       "      <td>No details</td>\n",
       "      <td>NaN</td>\n",
       "      <td>NaN</td>\n",
       "      <td>Questionable incident</td>\n",
       "    </tr>\n",
       "    <tr>\n",
       "      <th>3441</th>\n",
       "      <td>27-Jan-1969</td>\n",
       "      <td>1969.0</td>\n",
       "      <td>Unprovoked</td>\n",
       "      <td>AUSTRALIA</td>\n",
       "      <td>New South Wales</td>\n",
       "      <td>Beecroft Head</td>\n",
       "      <td>Freediving</td>\n",
       "      <td>M</td>\n",
       "      <td>21</td>\n",
       "      <td>Abrasions and lacerations to lower right leg</td>\n",
       "      <td>N</td>\n",
       "      <td>07h30</td>\n",
       "      <td>NaN</td>\n",
       "    </tr>\n",
       "    <tr>\n",
       "      <th>3442</th>\n",
       "      <td>Jan-1969</td>\n",
       "      <td>1969.0</td>\n",
       "      <td>Unprovoked</td>\n",
       "      <td>AUSTRALIA</td>\n",
       "      <td>Victoria</td>\n",
       "      <td>Port MacDonnel</td>\n",
       "      <td>NaN</td>\n",
       "      <td>M</td>\n",
       "      <td>NaN</td>\n",
       "      <td>Minor injury</td>\n",
       "      <td>N</td>\n",
       "      <td>NaN</td>\n",
       "      <td>Carpet shark</td>\n",
       "    </tr>\n",
       "    <tr>\n",
       "      <th>3443</th>\n",
       "      <td>Winter 1969</td>\n",
       "      <td>1969.0</td>\n",
       "      <td>Provoked</td>\n",
       "      <td>BAHAMAS</td>\n",
       "      <td>Eleuthera</td>\n",
       "      <td>NaN</td>\n",
       "      <td>Sight-seeing</td>\n",
       "      <td>NaN</td>\n",
       "      <td>NaN</td>\n",
       "      <td>No injury to occupants, shark grabbed prop, Le...</td>\n",
       "      <td>N</td>\n",
       "      <td>NaN</td>\n",
       "      <td>10' shark</td>\n",
       "    </tr>\n",
       "    <tr>\n",
       "      <th>3444</th>\n",
       "      <td>16-Jul-1961</td>\n",
       "      <td>1971.0</td>\n",
       "      <td>Unprovoked</td>\n",
       "      <td>TURKEY</td>\n",
       "      <td>Anatolia</td>\n",
       "      <td>?nciralti Beach, ?zmir</td>\n",
       "      <td>Swimming</td>\n",
       "      <td>M</td>\n",
       "      <td>16</td>\n",
       "      <td>Left leg injured</td>\n",
       "      <td>N</td>\n",
       "      <td>NaN</td>\n",
       "      <td>NaN</td>\n",
       "    </tr>\n",
       "  </tbody>\n",
       "</table>\n",
       "<p>3445 rows × 13 columns</p>\n",
       "</div>"
      ],
      "text/plain": [
       "             Date    Year        Type    Country             Area  \\\n",
       "0     25-Jun-2018  2018.0     Boating        USA       California   \n",
       "1     18-Jun-2018  2018.0  Unprovoked        USA          Georgia   \n",
       "2     09-Jun-2018  2018.0     Invalid        USA           Hawaii   \n",
       "3     08-Jun-2018  2018.0  Unprovoked  AUSTRALIA  New South Wales   \n",
       "4     04-Jun-2018  2018.0    Provoked     MEXICO           Colima   \n",
       "...           ...     ...         ...        ...              ...   \n",
       "3440     Feb-1969  1969.0     Invalid  AUSTRALIA       Queensland   \n",
       "3441  27-Jan-1969  1969.0  Unprovoked  AUSTRALIA  New South Wales   \n",
       "3442     Jan-1969  1969.0  Unprovoked  AUSTRALIA         Victoria   \n",
       "3443  Winter 1969  1969.0    Provoked    BAHAMAS        Eleuthera   \n",
       "3444  16-Jul-1961  1971.0  Unprovoked     TURKEY         Anatolia   \n",
       "\n",
       "                            Location         Activity Sex   Age  \\\n",
       "0        Oceanside, San Diego County         Paddling    F   57   \n",
       "1     St. Simon Island, Glynn County         Standing    F   11   \n",
       "2                       Habush, Oahu          Surfing    M   48   \n",
       "3                 Arrawarra Headland          Surfing    M  NaN   \n",
       "4                           La Ticla      Free diving    M  NaN   \n",
       "...                              ...              ...  ...  ...   \n",
       "3440                        Cooktown  Hard hat diving    M   52   \n",
       "3441                   Beecroft Head       Freediving    M   21   \n",
       "3442                  Port MacDonnel              NaN    M  NaN   \n",
       "3443                             NaN     Sight-seeing  NaN  NaN   \n",
       "3444         ?nciralti Beach, ?zmir          Swimming    M   16   \n",
       "\n",
       "                                                 Injury Fatal (Y/N)  \\\n",
       "0     No injury to occupant, outrigger canoe and pad...           N   \n",
       "1                            Minor injury to left thigh           N   \n",
       "2          Injury to left lower leg from surfboard skeg           N   \n",
       "3                             Minor injury to lower leg           N   \n",
       "4     Lacerations to leg & hand shark PROVOKED INCIDENT           N   \n",
       "...                                                 ...         ...   \n",
       "3440                                         No details         NaN   \n",
       "3441       Abrasions and lacerations to lower right leg           N   \n",
       "3442                                      Minor injury            N   \n",
       "3443  No injury to occupants, shark grabbed prop, Le...           N   \n",
       "3444                                   Left leg injured           N   \n",
       "\n",
       "               Time               Species   \n",
       "0             18h00            White shark  \n",
       "1     14h00  -15h00                    NaN  \n",
       "2             07h45                    NaN  \n",
       "3               NaN              2 m shark  \n",
       "4               NaN        Tiger shark, 3m  \n",
       "...             ...                    ...  \n",
       "3440            NaN  Questionable incident  \n",
       "3441          07h30                    NaN  \n",
       "3442            NaN           Carpet shark  \n",
       "3443            NaN              10' shark  \n",
       "3444            NaN                    NaN  \n",
       "\n",
       "[3445 rows x 13 columns]"
      ]
     },
     "execution_count": 13,
     "metadata": {},
     "output_type": "execute_result"
    }
   ],
   "source": [
    "#testing the new file\n",
    "pd.read_csv('data/attacks_cleaned.csv')"
   ]
  },
  {
   "cell_type": "markdown",
   "id": "e0831a59",
   "metadata": {},
   "source": [
    "---\n",
    "### Cleaning Type column"
   ]
  },
  {
   "cell_type": "code",
   "execution_count": 14,
   "id": "21d4c400",
   "metadata": {},
   "outputs": [
    {
     "data": {
      "text/plain": [
       "Unprovoked      2697\n",
       "Invalid          273\n",
       "Provoked         257\n",
       "Boating           92\n",
       "Boat              69\n",
       "Sea Disaster      52\n",
       "Questionable       2\n",
       "Boatomg            1\n",
       "Name: Type, dtype: int64"
      ]
     },
     "execution_count": 14,
     "metadata": {},
     "output_type": "execute_result"
    }
   ],
   "source": [
    "df_attacks['Type'].value_counts()"
   ]
  },
  {
   "cell_type": "markdown",
   "id": "84b1706f",
   "metadata": {},
   "source": [
    "`Boating`, `Boat` and `Boatomg` should be only one thing."
   ]
  },
  {
   "cell_type": "code",
   "execution_count": 15,
   "id": "9e09d159",
   "metadata": {},
   "outputs": [
    {
     "data": {
      "text/plain": [
       "2"
      ]
     },
     "execution_count": 15,
     "metadata": {},
     "output_type": "execute_result"
    }
   ],
   "source": [
    "df_attacks['Type'].isna().sum() #checking null/Na values to treat them first"
   ]
  },
  {
   "cell_type": "code",
   "execution_count": 16,
   "id": "e7eddf96",
   "metadata": {},
   "outputs": [
    {
     "data": {
      "text/plain": [
       "<class 'str'>      3443\n",
       "<class 'float'>       2\n",
       "Name: Type, dtype: int64"
      ]
     },
     "execution_count": 16,
     "metadata": {},
     "output_type": "execute_result"
    }
   ],
   "source": [
    "df_attacks['Type'].apply(type).value_counts()"
   ]
  },
  {
   "cell_type": "code",
   "execution_count": 17,
   "id": "992d25bf",
   "metadata": {},
   "outputs": [
    {
     "data": {
      "text/plain": [
       "<class 'str'>    3445\n",
       "Name: Type, dtype: int64"
      ]
     },
     "execution_count": 17,
     "metadata": {},
     "output_type": "execute_result"
    }
   ],
   "source": [
    "#treating any NaN or null values type to become a string 'Unknown'\n",
    "df_attacks['Type'] = df_attacks['Type'].apply(lambda x: x if type(x) == str else 'Unknown')\n",
    "df_attacks['Type'].apply(type).value_counts()"
   ]
  },
  {
   "cell_type": "code",
   "execution_count": 18,
   "id": "84f1d438",
   "metadata": {},
   "outputs": [
    {
     "data": {
      "text/plain": [
       "Unprovoked      2697\n",
       "Invalid          273\n",
       "Provoked         257\n",
       "Boating          162\n",
       "Sea Disaster      52\n",
       "Questionable       2\n",
       "Unknown            2\n",
       "Name: Type, dtype: int64"
      ]
     },
     "execution_count": 18,
     "metadata": {},
     "output_type": "execute_result"
    }
   ],
   "source": [
    "#now that all values from this column is string type, we can treat the Boat/Boating/Boatomg\n",
    "df_attacks['Type'] = df_attacks['Type'].apply(lambda x: 'Boating' if 'Boat' in x else x)\n",
    "df_attacks['Type'].value_counts()"
   ]
  },
  {
   "cell_type": "markdown",
   "id": "397d3dfd",
   "metadata": {},
   "source": [
    "---"
   ]
  },
  {
   "cell_type": "markdown",
   "id": "0d042747",
   "metadata": {},
   "source": [
    "### Cleaning Country column\n",
    "not yet"
   ]
  },
  {
   "cell_type": "code",
   "execution_count": 19,
   "id": "f44e3785",
   "metadata": {},
   "outputs": [
    {
     "data": {
      "text/plain": [
       "USA             1614\n",
       "AUSTRALIA        579\n",
       "SOUTH AFRICA     363\n",
       "BRAZIL           103\n",
       "BAHAMAS           82\n",
       "                ... \n",
       "Seychelles         1\n",
       "LIBERIA            1\n",
       "MEXICO             1\n",
       "HONDURAS           1\n",
       "TURKEY             1\n",
       "Name: Country, Length: 120, dtype: int64"
      ]
     },
     "execution_count": 19,
     "metadata": {},
     "output_type": "execute_result"
    }
   ],
   "source": [
    "df_attacks['Country'].value_counts()"
   ]
  },
  {
   "cell_type": "markdown",
   "id": "38b02828",
   "metadata": {},
   "source": [
    "Certainly `MEXICO` has more than 1 register."
   ]
  },
  {
   "cell_type": "code",
   "execution_count": 20,
   "id": "7b56d840",
   "metadata": {
    "scrolled": true
   },
   "outputs": [
    {
     "data": {
      "text/plain": [
       "1"
      ]
     },
     "execution_count": 20,
     "metadata": {},
     "output_type": "execute_result"
    }
   ],
   "source": [
    "len(df_attacks[df_attacks['Country'] == 'MEXICO '])"
   ]
  },
  {
   "cell_type": "code",
   "execution_count": 21,
   "id": "f3b3c887",
   "metadata": {},
   "outputs": [
    {
     "data": {
      "text/plain": [
       "40"
      ]
     },
     "execution_count": 21,
     "metadata": {},
     "output_type": "execute_result"
    }
   ],
   "source": [
    "len(df_attacks[df_attacks['Country'] == 'MEXICO'])"
   ]
  },
  {
   "cell_type": "markdown",
   "id": "8567ff5e",
   "metadata": {},
   "source": [
    "---"
   ]
  },
  {
   "cell_type": "markdown",
   "id": "21ece394",
   "metadata": {},
   "source": [
    "### Cleaning Activity column"
   ]
  },
  {
   "cell_type": "code",
   "execution_count": 22,
   "id": "1574219f",
   "metadata": {},
   "outputs": [
    {
     "data": {
      "text/plain": [
       "Surfing                                           943\n",
       "Swimming                                          437\n",
       "Spearfishing                                      216\n",
       "Fishing                                           170\n",
       "Wading                                            112\n",
       "                                                 ... \n",
       "Swimming with pod of dolphins                       1\n",
       "Walking, carrying surfboard & stepped on shark      1\n",
       "Swimming, wearing black wetsuit & swim fins         1\n",
       "Standing, stepped on shark                          1\n",
       "Sight-seeing                                        1\n",
       "Name: Activity, Length: 595, dtype: int64"
      ]
     },
     "execution_count": 22,
     "metadata": {},
     "output_type": "execute_result"
    }
   ],
   "source": [
    "df_attacks['Activity'].value_counts()"
   ]
  },
  {
   "cell_type": "markdown",
   "id": "aac8203e",
   "metadata": {},
   "source": [
    "Too many `Activity` types. This must be simplified if it is to be used to answer the business question."
   ]
  },
  {
   "cell_type": "code",
   "execution_count": 23,
   "id": "a80d0668",
   "metadata": {},
   "outputs": [],
   "source": [
    "import re"
   ]
  },
  {
   "cell_type": "code",
   "execution_count": 24,
   "id": "e58b4bd0",
   "metadata": {},
   "outputs": [
    {
     "data": {
      "text/plain": [
       "0                  Swimming with pod of dolphins\n",
       "1    Swimming, wearing black wetsuit & swim fins\n",
       "dtype: object"
      ]
     },
     "execution_count": 24,
     "metadata": {},
     "output_type": "execute_result"
    }
   ],
   "source": [
    "#testing the idea of how to simplify texts containing the keywords for the Activity type\n",
    "text = pd.Series(['Swimming with pod of dolphins', 'Swimming, wearing black wetsuit & swim fins'])\n",
    "text"
   ]
  },
  {
   "cell_type": "code",
   "execution_count": 25,
   "id": "4171deec",
   "metadata": {},
   "outputs": [
    {
     "data": {
      "text/plain": [
       "0    Swimming\n",
       "1    Swimming\n",
       "dtype: object"
      ]
     },
     "execution_count": 25,
     "metadata": {},
     "output_type": "execute_result"
    }
   ],
   "source": [
    "pattern = '[Ss]wimming'\n",
    "text.apply(lambda x: re.findall(pattern, x)[0])"
   ]
  },
  {
   "cell_type": "code",
   "execution_count": 26,
   "id": "02b4e88e",
   "metadata": {},
   "outputs": [
    {
     "data": {
      "text/plain": [
       "<class 'str'>      3229\n",
       "<class 'float'>     216\n",
       "Name: Activity, dtype: int64"
      ]
     },
     "execution_count": 26,
     "metadata": {},
     "output_type": "execute_result"
    }
   ],
   "source": [
    "#checking how many rows in the column 'Activity' is not a string\n",
    "df_attacks['Activity'].apply(type).value_counts()"
   ]
  },
  {
   "cell_type": "code",
   "execution_count": 27,
   "id": "5d420727",
   "metadata": {},
   "outputs": [
    {
     "data": {
      "text/plain": [
       "<class 'str'>    3445\n",
       "Name: Activity, dtype: int64"
      ]
     },
     "execution_count": 27,
     "metadata": {},
     "output_type": "execute_result"
    }
   ],
   "source": [
    "#turning float types 'Activity' into 'Unknown'\n",
    "df_attacks['Activity'] = df_attacks['Activity'].apply(lambda x: x if type(x) == str else 'Unknown')\n",
    "df_attacks['Activity'].apply(type).value_counts()"
   ]
  },
  {
   "cell_type": "code",
   "execution_count": 28,
   "id": "0a49d366",
   "metadata": {},
   "outputs": [
    {
     "data": {
      "text/plain": [
       "Surfing                                           943\n",
       "Swimming                                          437\n",
       "Unknown                                           219\n",
       "Spearfishing                                      216\n",
       "Fishing                                           170\n",
       "                                                 ... \n",
       "Swimming with pod of dolphins                       1\n",
       "Walking, carrying surfboard & stepped on shark      1\n",
       "Swimming, wearing black wetsuit & swim fins         1\n",
       "Standing, stepped on shark                          1\n",
       "Sight-seeing                                        1\n",
       "Name: Activity, Length: 595, dtype: int64"
      ]
     },
     "execution_count": 28,
     "metadata": {},
     "output_type": "execute_result"
    }
   ],
   "source": [
    "df_attacks['Activity'].value_counts()"
   ]
  },
  {
   "cell_type": "code",
   "execution_count": 29,
   "id": "8511c9a0",
   "metadata": {},
   "outputs": [
    {
     "data": {
      "text/plain": [
       "surfing                                 1054\n",
       "fishing                                  541\n",
       "swimming                                 519\n",
       "diving                                   293\n",
       "unknown                                  219\n",
       "                                        ... \n",
       "wading, when he stepped on the shark       1\n",
       "attempting to retreive a dinghy            1\n",
       "playing in the surf with his 2 dogs        1\n",
       "collecting beche-de-mer                    1\n",
       "sight-seeing                               1\n",
       "Name: Activity, Length: 266, dtype: int64"
      ]
     },
     "execution_count": 29,
     "metadata": {},
     "output_type": "execute_result"
    }
   ],
   "source": [
    "pattern = '[Ss]wimming|[Dd]iving|[Ss]urfing|[Ff]ishing|[Ss]tanding|[Ww]alking|[Ff]ilming'\n",
    "df_attacks['Activity'] = df_attacks['Activity'].apply(lambda x: re.findall(pattern, x)[0].lower() if len(re.findall(pattern, x))>0 else x.lower())\n",
    "df_attacks['Activity'].value_counts()"
   ]
  },
  {
   "cell_type": "code",
   "execution_count": 30,
   "id": "6b784c0b",
   "metadata": {},
   "outputs": [],
   "source": [
    "valid_activities = ['surfing', 'swimming', 'diving', 'fishing', 'standing', 'paddling', 'wading', 'unknown', 'other']"
   ]
  },
  {
   "cell_type": "code",
   "execution_count": 31,
   "id": "de6cb391",
   "metadata": {},
   "outputs": [
    {
     "data": {
      "text/plain": [
       "surfing                            1235\n",
       "fishing                             541\n",
       "swimming                            540\n",
       "diving                              293\n",
       "unknown                             219\n",
       "                                   ... \n",
       "attempting to retreive a dinghy       1\n",
       "collecting beche-de-mer               1\n",
       "fell off banana boat                  1\n",
       "hiking on the beach                   1\n",
       "sight-seeing                          1\n",
       "Name: Activity, Length: 204, dtype: int64"
      ]
     },
     "execution_count": 31,
     "metadata": {},
     "output_type": "execute_result"
    }
   ],
   "source": [
    "df_attacks['Activity'] = df_attacks['Activity'].apply(lambda x: 'surfing' if 'surf' in x else x)\n",
    "df_attacks['Activity'] = df_attacks['Activity'].apply(lambda x: 'paddling' if 'paddl' in x else x)\n",
    "df_attacks['Activity'] = df_attacks['Activity'].apply(lambda x: 'swimming' if 'floating' in x else x)\n",
    "df_attacks['Activity'] = df_attacks['Activity'].apply(lambda x: 'surfing' if 'boarding' in x else x)\n",
    "df_attacks['Activity'] = df_attacks['Activity'].apply(lambda x: 'wading' if 'wading' in x else x)\n",
    "df_attacks['Activity'].value_counts()"
   ]
  },
  {
   "cell_type": "code",
   "execution_count": 32,
   "id": "5d35bac3",
   "metadata": {},
   "outputs": [],
   "source": [
    "df_attacks['Activity'] = df_attacks['Activity'].apply(lambda x: x if x in valid_activities else 'other')"
   ]
  },
  {
   "cell_type": "code",
   "execution_count": 33,
   "id": "12d75487",
   "metadata": {},
   "outputs": [
    {
     "data": {
      "text/plain": [
       "surfing     1235\n",
       "fishing      541\n",
       "swimming     540\n",
       "other        408\n",
       "diving       293\n",
       "unknown      219\n",
       "wading       118\n",
       "standing      67\n",
       "paddling      24\n",
       "Name: Activity, dtype: int64"
      ]
     },
     "execution_count": 33,
     "metadata": {},
     "output_type": "execute_result"
    }
   ],
   "source": [
    "df_attacks['Activity'].value_counts()"
   ]
  },
  {
   "cell_type": "code",
   "execution_count": 34,
   "id": "8b21cf74",
   "metadata": {},
   "outputs": [
    {
     "data": {
      "text/html": [
       "<div>\n",
       "<style scoped>\n",
       "    .dataframe tbody tr th:only-of-type {\n",
       "        vertical-align: middle;\n",
       "    }\n",
       "\n",
       "    .dataframe tbody tr th {\n",
       "        vertical-align: top;\n",
       "    }\n",
       "\n",
       "    .dataframe thead th {\n",
       "        text-align: right;\n",
       "    }\n",
       "</style>\n",
       "<table border=\"1\" class=\"dataframe\">\n",
       "  <thead>\n",
       "    <tr style=\"text-align: right;\">\n",
       "      <th></th>\n",
       "      <th>Date</th>\n",
       "      <th>Year</th>\n",
       "      <th>Type</th>\n",
       "      <th>Country</th>\n",
       "      <th>Area</th>\n",
       "      <th>Location</th>\n",
       "      <th>Activity</th>\n",
       "      <th>Sex</th>\n",
       "      <th>Age</th>\n",
       "      <th>Injury</th>\n",
       "      <th>Fatal (Y/N)</th>\n",
       "      <th>Time</th>\n",
       "      <th>Species</th>\n",
       "    </tr>\n",
       "  </thead>\n",
       "  <tbody>\n",
       "    <tr>\n",
       "      <th>0</th>\n",
       "      <td>25-Jun-2018</td>\n",
       "      <td>2018.0</td>\n",
       "      <td>Boating</td>\n",
       "      <td>USA</td>\n",
       "      <td>California</td>\n",
       "      <td>Oceanside, San Diego County</td>\n",
       "      <td>paddling</td>\n",
       "      <td>F</td>\n",
       "      <td>57</td>\n",
       "      <td>No injury to occupant, outrigger canoe and pad...</td>\n",
       "      <td>N</td>\n",
       "      <td>18h00</td>\n",
       "      <td>White shark</td>\n",
       "    </tr>\n",
       "    <tr>\n",
       "      <th>1</th>\n",
       "      <td>18-Jun-2018</td>\n",
       "      <td>2018.0</td>\n",
       "      <td>Unprovoked</td>\n",
       "      <td>USA</td>\n",
       "      <td>Georgia</td>\n",
       "      <td>St. Simon Island, Glynn County</td>\n",
       "      <td>standing</td>\n",
       "      <td>F</td>\n",
       "      <td>11</td>\n",
       "      <td>Minor injury to left thigh</td>\n",
       "      <td>N</td>\n",
       "      <td>14h00  -15h00</td>\n",
       "      <td>NaN</td>\n",
       "    </tr>\n",
       "    <tr>\n",
       "      <th>2</th>\n",
       "      <td>09-Jun-2018</td>\n",
       "      <td>2018.0</td>\n",
       "      <td>Invalid</td>\n",
       "      <td>USA</td>\n",
       "      <td>Hawaii</td>\n",
       "      <td>Habush, Oahu</td>\n",
       "      <td>surfing</td>\n",
       "      <td>M</td>\n",
       "      <td>48</td>\n",
       "      <td>Injury to left lower leg from surfboard skeg</td>\n",
       "      <td>N</td>\n",
       "      <td>07h45</td>\n",
       "      <td>NaN</td>\n",
       "    </tr>\n",
       "    <tr>\n",
       "      <th>3</th>\n",
       "      <td>08-Jun-2018</td>\n",
       "      <td>2018.0</td>\n",
       "      <td>Unprovoked</td>\n",
       "      <td>AUSTRALIA</td>\n",
       "      <td>New South Wales</td>\n",
       "      <td>Arrawarra Headland</td>\n",
       "      <td>surfing</td>\n",
       "      <td>M</td>\n",
       "      <td>NaN</td>\n",
       "      <td>Minor injury to lower leg</td>\n",
       "      <td>N</td>\n",
       "      <td>NaN</td>\n",
       "      <td>2 m shark</td>\n",
       "    </tr>\n",
       "    <tr>\n",
       "      <th>4</th>\n",
       "      <td>04-Jun-2018</td>\n",
       "      <td>2018.0</td>\n",
       "      <td>Provoked</td>\n",
       "      <td>MEXICO</td>\n",
       "      <td>Colima</td>\n",
       "      <td>La Ticla</td>\n",
       "      <td>diving</td>\n",
       "      <td>M</td>\n",
       "      <td>NaN</td>\n",
       "      <td>Lacerations to leg &amp; hand shark PROVOKED INCIDENT</td>\n",
       "      <td>N</td>\n",
       "      <td>NaN</td>\n",
       "      <td>Tiger shark, 3m</td>\n",
       "    </tr>\n",
       "    <tr>\n",
       "      <th>...</th>\n",
       "      <td>...</td>\n",
       "      <td>...</td>\n",
       "      <td>...</td>\n",
       "      <td>...</td>\n",
       "      <td>...</td>\n",
       "      <td>...</td>\n",
       "      <td>...</td>\n",
       "      <td>...</td>\n",
       "      <td>...</td>\n",
       "      <td>...</td>\n",
       "      <td>...</td>\n",
       "      <td>...</td>\n",
       "      <td>...</td>\n",
       "    </tr>\n",
       "    <tr>\n",
       "      <th>3441</th>\n",
       "      <td>Feb-1969</td>\n",
       "      <td>1969.0</td>\n",
       "      <td>Invalid</td>\n",
       "      <td>AUSTRALIA</td>\n",
       "      <td>Queensland</td>\n",
       "      <td>Cooktown</td>\n",
       "      <td>diving</td>\n",
       "      <td>M</td>\n",
       "      <td>52</td>\n",
       "      <td>No details</td>\n",
       "      <td>NaN</td>\n",
       "      <td>NaN</td>\n",
       "      <td>Questionable incident</td>\n",
       "    </tr>\n",
       "    <tr>\n",
       "      <th>3442</th>\n",
       "      <td>27-Jan-1969</td>\n",
       "      <td>1969.0</td>\n",
       "      <td>Unprovoked</td>\n",
       "      <td>AUSTRALIA</td>\n",
       "      <td>New South Wales</td>\n",
       "      <td>Beecroft Head</td>\n",
       "      <td>diving</td>\n",
       "      <td>M</td>\n",
       "      <td>21</td>\n",
       "      <td>Abrasions and lacerations to lower right leg</td>\n",
       "      <td>N</td>\n",
       "      <td>07h30</td>\n",
       "      <td>NaN</td>\n",
       "    </tr>\n",
       "    <tr>\n",
       "      <th>3443</th>\n",
       "      <td>Jan-1969</td>\n",
       "      <td>1969.0</td>\n",
       "      <td>Unprovoked</td>\n",
       "      <td>AUSTRALIA</td>\n",
       "      <td>Victoria</td>\n",
       "      <td>Port MacDonnel</td>\n",
       "      <td>unknown</td>\n",
       "      <td>M</td>\n",
       "      <td>NaN</td>\n",
       "      <td>Minor injury</td>\n",
       "      <td>N</td>\n",
       "      <td>NaN</td>\n",
       "      <td>Carpet shark</td>\n",
       "    </tr>\n",
       "    <tr>\n",
       "      <th>3444</th>\n",
       "      <td>Winter 1969</td>\n",
       "      <td>1969.0</td>\n",
       "      <td>Provoked</td>\n",
       "      <td>BAHAMAS</td>\n",
       "      <td>Eleuthera</td>\n",
       "      <td>NaN</td>\n",
       "      <td>other</td>\n",
       "      <td>NaN</td>\n",
       "      <td>NaN</td>\n",
       "      <td>No injury to occupants, shark grabbed prop, Le...</td>\n",
       "      <td>N</td>\n",
       "      <td>NaN</td>\n",
       "      <td>10' shark</td>\n",
       "    </tr>\n",
       "    <tr>\n",
       "      <th>3888</th>\n",
       "      <td>16-Jul-1961</td>\n",
       "      <td>1971.0</td>\n",
       "      <td>Unprovoked</td>\n",
       "      <td>TURKEY</td>\n",
       "      <td>Anatolia</td>\n",
       "      <td>?nciralti Beach, ?zmir</td>\n",
       "      <td>swimming</td>\n",
       "      <td>M</td>\n",
       "      <td>16</td>\n",
       "      <td>Left leg injured</td>\n",
       "      <td>N</td>\n",
       "      <td>NaN</td>\n",
       "      <td>NaN</td>\n",
       "    </tr>\n",
       "  </tbody>\n",
       "</table>\n",
       "<p>3445 rows × 13 columns</p>\n",
       "</div>"
      ],
      "text/plain": [
       "             Date    Year        Type    Country             Area  \\\n",
       "0     25-Jun-2018  2018.0     Boating        USA       California   \n",
       "1     18-Jun-2018  2018.0  Unprovoked        USA          Georgia   \n",
       "2     09-Jun-2018  2018.0     Invalid        USA           Hawaii   \n",
       "3     08-Jun-2018  2018.0  Unprovoked  AUSTRALIA  New South Wales   \n",
       "4     04-Jun-2018  2018.0    Provoked     MEXICO           Colima   \n",
       "...           ...     ...         ...        ...              ...   \n",
       "3441     Feb-1969  1969.0     Invalid  AUSTRALIA       Queensland   \n",
       "3442  27-Jan-1969  1969.0  Unprovoked  AUSTRALIA  New South Wales   \n",
       "3443     Jan-1969  1969.0  Unprovoked  AUSTRALIA         Victoria   \n",
       "3444  Winter 1969  1969.0    Provoked    BAHAMAS        Eleuthera   \n",
       "3888  16-Jul-1961  1971.0  Unprovoked     TURKEY         Anatolia   \n",
       "\n",
       "                            Location  Activity Sex   Age  \\\n",
       "0        Oceanside, San Diego County  paddling    F   57   \n",
       "1     St. Simon Island, Glynn County  standing    F   11   \n",
       "2                       Habush, Oahu   surfing    M   48   \n",
       "3                 Arrawarra Headland   surfing    M  NaN   \n",
       "4                           La Ticla    diving    M  NaN   \n",
       "...                              ...       ...  ...  ...   \n",
       "3441                        Cooktown    diving    M   52   \n",
       "3442                   Beecroft Head    diving    M   21   \n",
       "3443                  Port MacDonnel   unknown    M  NaN   \n",
       "3444                             NaN     other  NaN  NaN   \n",
       "3888         ?nciralti Beach, ?zmir   swimming    M   16   \n",
       "\n",
       "                                                 Injury Fatal (Y/N)  \\\n",
       "0     No injury to occupant, outrigger canoe and pad...           N   \n",
       "1                            Minor injury to left thigh           N   \n",
       "2          Injury to left lower leg from surfboard skeg           N   \n",
       "3                             Minor injury to lower leg           N   \n",
       "4     Lacerations to leg & hand shark PROVOKED INCIDENT           N   \n",
       "...                                                 ...         ...   \n",
       "3441                                         No details         NaN   \n",
       "3442       Abrasions and lacerations to lower right leg           N   \n",
       "3443                                      Minor injury            N   \n",
       "3444  No injury to occupants, shark grabbed prop, Le...           N   \n",
       "3888                                   Left leg injured           N   \n",
       "\n",
       "               Time               Species   \n",
       "0             18h00            White shark  \n",
       "1     14h00  -15h00                    NaN  \n",
       "2             07h45                    NaN  \n",
       "3               NaN              2 m shark  \n",
       "4               NaN        Tiger shark, 3m  \n",
       "...             ...                    ...  \n",
       "3441            NaN  Questionable incident  \n",
       "3442          07h30                    NaN  \n",
       "3443            NaN           Carpet shark  \n",
       "3444            NaN              10' shark  \n",
       "3888            NaN                    NaN  \n",
       "\n",
       "[3445 rows x 13 columns]"
      ]
     },
     "execution_count": 34,
     "metadata": {},
     "output_type": "execute_result"
    }
   ],
   "source": [
    "df_attacks"
   ]
  },
  {
   "cell_type": "markdown",
   "id": "3e26358a",
   "metadata": {},
   "source": [
    "---"
   ]
  },
  {
   "cell_type": "markdown",
   "id": "096c1ab1",
   "metadata": {},
   "source": [
    "### Cleaning Sex Column and renaming it to Gender"
   ]
  },
  {
   "cell_type": "code",
   "execution_count": 35,
   "id": "7eb89d04",
   "metadata": {},
   "outputs": [
    {
     "data": {
      "text/plain": [
       "M      2723\n",
       "F       480\n",
       "M         2\n",
       "lli       1\n",
       "Name: Sex , dtype: int64"
      ]
     },
     "execution_count": 35,
     "metadata": {},
     "output_type": "execute_result"
    }
   ],
   "source": [
    "df_attacks['Sex '].value_counts()"
   ]
  },
  {
   "cell_type": "markdown",
   "id": "06324ce2",
   "metadata": {},
   "source": [
    "This column also need to be treated.\n",
    "1. The name of the column should be renamed;\n",
    "2. Should have only one `M`;\n",
    "3. If `lli` has no meaning it is better to be left as `Unknown`."
   ]
  },
  {
   "cell_type": "code",
   "execution_count": 36,
   "id": "644286e9",
   "metadata": {},
   "outputs": [
    {
     "data": {
      "text/html": [
       "<div>\n",
       "<style scoped>\n",
       "    .dataframe tbody tr th:only-of-type {\n",
       "        vertical-align: middle;\n",
       "    }\n",
       "\n",
       "    .dataframe tbody tr th {\n",
       "        vertical-align: top;\n",
       "    }\n",
       "\n",
       "    .dataframe thead th {\n",
       "        text-align: right;\n",
       "    }\n",
       "</style>\n",
       "<table border=\"1\" class=\"dataframe\">\n",
       "  <thead>\n",
       "    <tr style=\"text-align: right;\">\n",
       "      <th></th>\n",
       "      <th>Date</th>\n",
       "      <th>Year</th>\n",
       "      <th>Type</th>\n",
       "      <th>Country</th>\n",
       "      <th>Area</th>\n",
       "      <th>Location</th>\n",
       "      <th>Activity</th>\n",
       "      <th>Gender</th>\n",
       "      <th>Age</th>\n",
       "      <th>Injury</th>\n",
       "      <th>Fatal (Y/N)</th>\n",
       "      <th>Time</th>\n",
       "      <th>Species</th>\n",
       "    </tr>\n",
       "  </thead>\n",
       "  <tbody>\n",
       "    <tr>\n",
       "      <th>0</th>\n",
       "      <td>25-Jun-2018</td>\n",
       "      <td>2018.0</td>\n",
       "      <td>Boating</td>\n",
       "      <td>USA</td>\n",
       "      <td>California</td>\n",
       "      <td>Oceanside, San Diego County</td>\n",
       "      <td>paddling</td>\n",
       "      <td>F</td>\n",
       "      <td>57</td>\n",
       "      <td>No injury to occupant, outrigger canoe and pad...</td>\n",
       "      <td>N</td>\n",
       "      <td>18h00</td>\n",
       "      <td>White shark</td>\n",
       "    </tr>\n",
       "    <tr>\n",
       "      <th>1</th>\n",
       "      <td>18-Jun-2018</td>\n",
       "      <td>2018.0</td>\n",
       "      <td>Unprovoked</td>\n",
       "      <td>USA</td>\n",
       "      <td>Georgia</td>\n",
       "      <td>St. Simon Island, Glynn County</td>\n",
       "      <td>standing</td>\n",
       "      <td>F</td>\n",
       "      <td>11</td>\n",
       "      <td>Minor injury to left thigh</td>\n",
       "      <td>N</td>\n",
       "      <td>14h00  -15h00</td>\n",
       "      <td>NaN</td>\n",
       "    </tr>\n",
       "  </tbody>\n",
       "</table>\n",
       "</div>"
      ],
      "text/plain": [
       "          Date    Year        Type Country        Area  \\\n",
       "0  25-Jun-2018  2018.0     Boating     USA  California   \n",
       "1  18-Jun-2018  2018.0  Unprovoked     USA     Georgia   \n",
       "\n",
       "                         Location  Activity Gender Age  \\\n",
       "0     Oceanside, San Diego County  paddling      F  57   \n",
       "1  St. Simon Island, Glynn County  standing      F  11   \n",
       "\n",
       "                                              Injury Fatal (Y/N)  \\\n",
       "0  No injury to occupant, outrigger canoe and pad...           N   \n",
       "1                         Minor injury to left thigh           N   \n",
       "\n",
       "            Time     Species   \n",
       "0          18h00  White shark  \n",
       "1  14h00  -15h00          NaN  "
      ]
     },
     "execution_count": 36,
     "metadata": {},
     "output_type": "execute_result"
    }
   ],
   "source": [
    "#renaming the column\n",
    "df_attacks.rename(columns={'Sex ': 'Gender'}, inplace=True)\n",
    "df_attacks.head(2)"
   ]
  },
  {
   "cell_type": "code",
   "execution_count": 37,
   "id": "8f5f72c7",
   "metadata": {},
   "outputs": [
    {
     "data": {
      "text/plain": [
       "<class 'str'>      3206\n",
       "<class 'float'>     239\n",
       "Name: Gender, dtype: int64"
      ]
     },
     "execution_count": 37,
     "metadata": {},
     "output_type": "execute_result"
    }
   ],
   "source": [
    "#checking if all the values is string type\n",
    "df_attacks['Gender'].apply(type).value_counts()"
   ]
  },
  {
   "cell_type": "code",
   "execution_count": 38,
   "id": "338d0bf2",
   "metadata": {},
   "outputs": [
    {
     "data": {
      "text/plain": [
       "<class 'str'>    3445\n",
       "Name: Gender, dtype: int64"
      ]
     },
     "execution_count": 38,
     "metadata": {},
     "output_type": "execute_result"
    }
   ],
   "source": [
    "df_attacks['Gender'] = df_attacks['Gender'].apply(lambda x: x if type(x) == str else 'Unknown')\n",
    "df_attacks['Gender'].apply(type).value_counts()"
   ]
  },
  {
   "cell_type": "code",
   "execution_count": 39,
   "id": "d57d4012",
   "metadata": {},
   "outputs": [
    {
     "data": {
      "text/plain": [
       "M          2725\n",
       "F           480\n",
       "Unknown     240\n",
       "Name: Gender, dtype: int64"
      ]
     },
     "execution_count": 39,
     "metadata": {},
     "output_type": "execute_result"
    }
   ],
   "source": [
    "df_attacks['Gender'] = df_attacks['Gender'].apply(lambda x: 'M' if 'M' in x else x)\n",
    "df_attacks['Gender'] = df_attacks['Gender'].apply(lambda x: 'Unknown' if 'li' in x else x)\n",
    "df_attacks['Gender'].value_counts()"
   ]
  },
  {
   "cell_type": "markdown",
   "id": "10b85d38",
   "metadata": {},
   "source": [
    "---"
   ]
  },
  {
   "cell_type": "markdown",
   "id": "9a9a7986",
   "metadata": {},
   "source": [
    "### Cleaning Age"
   ]
  },
  {
   "cell_type": "code",
   "execution_count": 40,
   "id": "bc8d6ab6",
   "metadata": {},
   "outputs": [
    {
     "data": {
      "text/plain": [
       "17          96\n",
       "16          93\n",
       "20          92\n",
       "19          91\n",
       "15          86\n",
       "            ..\n",
       "84           1\n",
       "             1\n",
       "30 or 36     1\n",
       "6½           1\n",
       "adult        1\n",
       "Name: Age, Length: 118, dtype: int64"
      ]
     },
     "execution_count": 40,
     "metadata": {},
     "output_type": "execute_result"
    }
   ],
   "source": [
    "df_attacks['Age'].value_counts()"
   ]
  },
  {
   "cell_type": "markdown",
   "id": "cff2cb09",
   "metadata": {},
   "source": [
    "This column should be `int` or `float` type."
   ]
  },
  {
   "cell_type": "code",
   "execution_count": 41,
   "id": "3cd1c16f",
   "metadata": {},
   "outputs": [
    {
     "data": {
      "text/plain": [
       "<class 'str'>      2453\n",
       "<class 'float'>     992\n",
       "Name: Age, dtype: int64"
      ]
     },
     "execution_count": 41,
     "metadata": {},
     "output_type": "execute_result"
    }
   ],
   "source": [
    "#checking the values type\n",
    "df_attacks['Age'].apply(type).value_counts()"
   ]
  },
  {
   "cell_type": "markdown",
   "id": "3ebd81a8",
   "metadata": {},
   "source": [
    "There is a lot of string type. To treat it mus be defined a function to try to convert the strings value into float, otherwise, it will defined as a null value."
   ]
  },
  {
   "cell_type": "code",
   "execution_count": 42,
   "id": "8b4e6eef",
   "metadata": {},
   "outputs": [],
   "source": [
    "#creating the function to convert the values\n",
    "def convert_to_float (x):\n",
    "    try:\n",
    "        return float(x)\n",
    "    except:\n",
    "        return None"
   ]
  },
  {
   "cell_type": "code",
   "execution_count": 43,
   "id": "8478db93",
   "metadata": {},
   "outputs": [
    {
     "data": {
      "text/plain": [
       "17.0    96\n",
       "16.0    93\n",
       "20.0    93\n",
       "19.0    91\n",
       "15.0    86\n",
       "        ..\n",
       "87.0     1\n",
       "72.0     1\n",
       "86.0     1\n",
       "82.0     1\n",
       "67.0     1\n",
       "Name: Age, Length: 77, dtype: int64"
      ]
     },
     "execution_count": 43,
     "metadata": {},
     "output_type": "execute_result"
    }
   ],
   "source": [
    "df_attacks['Age'] = df_attacks['Age'].apply(convert_to_float)\n",
    "df_attacks['Age'].value_counts()"
   ]
  },
  {
   "cell_type": "code",
   "execution_count": 44,
   "id": "7878eb09",
   "metadata": {},
   "outputs": [
    {
     "data": {
      "text/plain": [
       "0.3053701015965167"
      ]
     },
     "execution_count": 44,
     "metadata": {},
     "output_type": "execute_result"
    }
   ],
   "source": [
    "#percentage of data that is unknown the age of the victim\n",
    "df_attacks['Age'].isnull().sum()/len(df_attacks['Age'])"
   ]
  },
  {
   "cell_type": "markdown",
   "id": "51615f4f",
   "metadata": {},
   "source": [
    "---"
   ]
  },
  {
   "cell_type": "code",
   "execution_count": 45,
   "id": "da60a47f",
   "metadata": {},
   "outputs": [
    {
     "data": {
      "text/plain": [
       "FATAL                                                                  242\n",
       "Foot bitten                                                             64\n",
       "Survived                                                                56\n",
       "Left foot bitten                                                        46\n",
       "Leg bitten                                                              43\n",
       "                                                                      ... \n",
       "Drowned, body scavenged by shark                                         1\n",
       "No injury to occupant, shark removed small auxiliary outboard motor      1\n",
       "Severe lacerations to lower left leg                                     1\n",
       "No injury, flung from surfboard by the shark                             1\n",
       "Left leg injured                                                         1\n",
       "Name: Injury, Length: 2110, dtype: int64"
      ]
     },
     "execution_count": 45,
     "metadata": {},
     "output_type": "execute_result"
    }
   ],
   "source": [
    "df_attacks['Injury'].value_counts()"
   ]
  },
  {
   "cell_type": "markdown",
   "id": "2d4824d3",
   "metadata": {},
   "source": [
    "Too many `Injury` types. This must be simplified if it is to be used to answer the business question.\n",
    "\n",
    "But I'm not going to use it for analysis, so I'll leave it as it is. probably will drop it further.\n",
    "\n",
    "---"
   ]
  },
  {
   "cell_type": "markdown",
   "id": "8b3018b0",
   "metadata": {},
   "source": [
    "### Cleaning the Fatal (Y/N) column"
   ]
  },
  {
   "cell_type": "code",
   "execution_count": 46,
   "id": "be8ae712",
   "metadata": {},
   "outputs": [
    {
     "data": {
      "text/plain": [
       "N          2772\n",
       "Y           383\n",
       "UNKNOWN      29\n",
       "M             1\n",
       "2017          1\n",
       "Name: Fatal (Y/N), dtype: int64"
      ]
     },
     "execution_count": 46,
     "metadata": {},
     "output_type": "execute_result"
    }
   ],
   "source": [
    "df_attacks['Fatal (Y/N)'].value_counts()"
   ]
  },
  {
   "cell_type": "markdown",
   "id": "7ca902ff",
   "metadata": {},
   "source": [
    "`M` probably `N` (typing error).\n",
    "\n",
    "`2017` as `UNKNOWN`, unless the `Injury` gives a clue if it was fatal or not. This must be checked before converting non string values into string."
   ]
  },
  {
   "cell_type": "code",
   "execution_count": 47,
   "id": "28d358d8",
   "metadata": {},
   "outputs": [
    {
     "data": {
      "text/plain": [
       "<class 'str'>      3186\n",
       "<class 'float'>     259\n",
       "Name: Fatal (Y/N), dtype: int64"
      ]
     },
     "execution_count": 47,
     "metadata": {},
     "output_type": "execute_result"
    }
   ],
   "source": [
    "#checking the values type\n",
    "df_attacks['Fatal (Y/N)'].apply(type).value_counts()"
   ]
  },
  {
   "cell_type": "code",
   "execution_count": 48,
   "id": "afa19080",
   "metadata": {},
   "outputs": [
    {
     "data": {
      "text/html": [
       "<div>\n",
       "<style scoped>\n",
       "    .dataframe tbody tr th:only-of-type {\n",
       "        vertical-align: middle;\n",
       "    }\n",
       "\n",
       "    .dataframe tbody tr th {\n",
       "        vertical-align: top;\n",
       "    }\n",
       "\n",
       "    .dataframe thead th {\n",
       "        text-align: right;\n",
       "    }\n",
       "</style>\n",
       "<table border=\"1\" class=\"dataframe\">\n",
       "  <thead>\n",
       "    <tr style=\"text-align: right;\">\n",
       "      <th></th>\n",
       "      <th>Date</th>\n",
       "      <th>Year</th>\n",
       "      <th>Type</th>\n",
       "      <th>Country</th>\n",
       "      <th>Area</th>\n",
       "      <th>Location</th>\n",
       "      <th>Activity</th>\n",
       "      <th>Gender</th>\n",
       "      <th>Age</th>\n",
       "      <th>Injury</th>\n",
       "      <th>Fatal (Y/N)</th>\n",
       "      <th>Time</th>\n",
       "      <th>Species</th>\n",
       "    </tr>\n",
       "  </thead>\n",
       "  <tbody>\n",
       "    <tr>\n",
       "      <th>786</th>\n",
       "      <td>10-Jun-2012</td>\n",
       "      <td>2012.0</td>\n",
       "      <td>Provoked</td>\n",
       "      <td>ITALY</td>\n",
       "      <td>Sardinia</td>\n",
       "      <td>Muravera</td>\n",
       "      <td>other</td>\n",
       "      <td>M</td>\n",
       "      <td>57.0</td>\n",
       "      <td>Lower left leg injured PROVOKED ACCIDENT</td>\n",
       "      <td>2017</td>\n",
       "      <td>Morning</td>\n",
       "      <td>Blue shark, 2.5m</td>\n",
       "    </tr>\n",
       "  </tbody>\n",
       "</table>\n",
       "</div>"
      ],
      "text/plain": [
       "            Date    Year      Type Country      Area  Location Activity  \\\n",
       "786  10-Jun-2012  2012.0  Provoked   ITALY  Sardinia  Muravera    other   \n",
       "\n",
       "    Gender   Age                                    Injury Fatal (Y/N)  \\\n",
       "786      M  57.0  Lower left leg injured PROVOKED ACCIDENT        2017   \n",
       "\n",
       "        Time          Species   \n",
       "786  Morning  Blue shark, 2.5m  "
      ]
     },
     "execution_count": 48,
     "metadata": {},
     "output_type": "execute_result"
    }
   ],
   "source": [
    "df_attacks[df_attacks['Fatal (Y/N)'] == '2017']"
   ]
  },
  {
   "cell_type": "markdown",
   "id": "5ff95233",
   "metadata": {},
   "source": [
    "It is not clear if the victim survived or not, so I'll treat it as `UNKNOWN`.\n",
    "Notes that `2017` is a string type."
   ]
  },
  {
   "cell_type": "code",
   "execution_count": 49,
   "id": "74558541",
   "metadata": {},
   "outputs": [
    {
     "data": {
      "text/plain": [
       "<class 'str'>    3445\n",
       "Name: Fatal (Y/N), dtype: int64"
      ]
     },
     "execution_count": 49,
     "metadata": {},
     "output_type": "execute_result"
    }
   ],
   "source": [
    "df_attacks['Fatal (Y/N)'] = df_attacks['Fatal (Y/N)'].apply(lambda x: x if type(x) == str else 'UNKNOWN')\n",
    "df_attacks['Fatal (Y/N)'].apply(type).value_counts()"
   ]
  },
  {
   "cell_type": "code",
   "execution_count": 50,
   "id": "4a48ae3e",
   "metadata": {},
   "outputs": [
    {
     "data": {
      "text/plain": [
       "N          2772\n",
       "Y           383\n",
       "UNKNOWN     288\n",
       "M             1\n",
       "2017          1\n",
       "Name: Fatal (Y/N), dtype: int64"
      ]
     },
     "execution_count": 50,
     "metadata": {},
     "output_type": "execute_result"
    }
   ],
   "source": [
    "df_attacks['Fatal (Y/N)'].value_counts()"
   ]
  },
  {
   "cell_type": "code",
   "execution_count": 58,
   "id": "49f83eb3",
   "metadata": {},
   "outputs": [
    {
     "data": {
      "text/plain": [
       "N          2773\n",
       "Y           383\n",
       "UNKNOWN     289\n",
       "Name: Fatal (Y/N), dtype: int64"
      ]
     },
     "execution_count": 58,
     "metadata": {},
     "output_type": "execute_result"
    }
   ],
   "source": [
    "df_attacks['Fatal (Y/N)'] = df_attacks['Fatal (Y/N)'].apply(lambda x: 'N' if x == 'M' else x)\n",
    "df_attacks['Fatal (Y/N)'] = df_attacks['Fatal (Y/N)'].apply(lambda x: x if x in 'YN' else 'UNKNOWN')\n",
    "df_attacks['Fatal (Y/N)'].value_counts()"
   ]
  },
  {
   "cell_type": "markdown",
   "id": "d1507d6d",
   "metadata": {},
   "source": [
    "---"
   ]
  },
  {
   "cell_type": "code",
   "execution_count": 51,
   "id": "bb09da00",
   "metadata": {},
   "outputs": [
    {
     "data": {
      "text/plain": [
       "Afternoon              124\n",
       "11h00                   93\n",
       "Morning                 90\n",
       "15h00                   80\n",
       "16h00                   70\n",
       "                      ... \n",
       "1300                     1\n",
       "\"Evening\"                1\n",
       "Just before sundown      1\n",
       "19h05                    1\n",
       "Daytime                  1\n",
       "Name: Time, Length: 309, dtype: int64"
      ]
     },
     "execution_count": 51,
     "metadata": {},
     "output_type": "execute_result"
    }
   ],
   "source": [
    "df_attacks['Time'].value_counts()"
   ]
  },
  {
   "cell_type": "markdown",
   "id": "92155e14",
   "metadata": {},
   "source": [
    "I don't know how to deal with it. I'll probably not use this column...\n",
    "\n",
    "---"
   ]
  },
  {
   "cell_type": "markdown",
   "id": "4b2706c1",
   "metadata": {},
   "source": [
    "### Cleaning Species column"
   ]
  },
  {
   "cell_type": "code",
   "execution_count": 52,
   "id": "f8181a0c",
   "metadata": {},
   "outputs": [
    {
     "data": {
      "text/plain": [
       "White shark                                                                 121\n",
       "Shark involvement not confirmed                                              69\n",
       "Shark involvement prior to death was not confirmed                           56\n",
       "Tiger shark                                                                  49\n",
       "Invalid                                                                      43\n",
       "                                                                           ... \n",
       "A 10-year-old 94-pound pregnant blacktip reef shark                           1\n",
       "Lesser spotted dogfish, Scyliorhinus canicula, less than 80 cm in length      1\n",
       "White shark, 2m                                                               1\n",
       "Lemon shark, >1 m                                                             1\n",
       "White shark, identified by tooth fragments in surfboard                       1\n",
       "Name: Species , Length: 1056, dtype: int64"
      ]
     },
     "execution_count": 52,
     "metadata": {},
     "output_type": "execute_result"
    }
   ],
   "source": [
    "df_attacks['Species '].value_counts()"
   ]
  },
  {
   "cell_type": "markdown",
   "id": "de91ce57",
   "metadata": {},
   "source": [
    "I'll probably not use this for analysis.\n",
    "But very interesting statements poped up here: `Shark involvement not confirmed`, and `Shark involvement prior to death was not confirmed`. Theses statements makes its rows not reliable to count as a record of shark attack and must be dropped.\n",
    "\n",
    "Deeper and further analysis should be done in this column to check if there is need for more row drops."
   ]
  },
  {
   "cell_type": "code",
   "execution_count": 65,
   "id": "fcc6c15c",
   "metadata": {},
   "outputs": [],
   "source": [
    "#renaming the column\n",
    "df_attacks.rename(columns={'Species ': 'Species'}, inplace=True)"
   ]
  },
  {
   "cell_type": "code",
   "execution_count": 66,
   "id": "8fa00774",
   "metadata": {},
   "outputs": [
    {
     "data": {
      "text/plain": [
       "<class 'str'>      2239\n",
       "<class 'float'>    1206\n",
       "Name: Species, dtype: int64"
      ]
     },
     "execution_count": 66,
     "metadata": {},
     "output_type": "execute_result"
    }
   ],
   "source": [
    "df_attacks['Species'].apply(type).value_counts()"
   ]
  },
  {
   "cell_type": "code",
   "execution_count": 68,
   "id": "a65e455f",
   "metadata": {},
   "outputs": [
    {
     "data": {
      "text/plain": [
       "<class 'str'>    3445\n",
       "Name: Species, dtype: int64"
      ]
     },
     "execution_count": 68,
     "metadata": {},
     "output_type": "execute_result"
    }
   ],
   "source": [
    "df_attacks['Species'] = df_attacks['Species'].apply(lambda x: x if type(x) == str else 'UNKNOWN')\n",
    "df_attacks['Species'].apply(type).value_counts()"
   ]
  },
  {
   "cell_type": "code",
   "execution_count": 70,
   "id": "6690cc11",
   "metadata": {},
   "outputs": [
    {
     "data": {
      "text/plain": [
       "UNKNOWN                                                                     1206\n",
       "White shark                                                                  121\n",
       "Shark involvement not confirmed                                               69\n",
       "Shark involvement prior to death was not confirmed                            56\n",
       "Tiger shark                                                                   49\n",
       "                                                                            ... \n",
       "A 10-year-old 94-pound pregnant blacktip reef shark                            1\n",
       "Lesser spotted dogfish, Scyliorhinus canicula, less than 80 cm in length       1\n",
       "White shark, 2m                                                                1\n",
       "Lemon shark, >1 m                                                              1\n",
       "White shark, identified by tooth fragments in surfboard                        1\n",
       "Name: Species, Length: 1057, dtype: int64"
      ]
     },
     "execution_count": 70,
     "metadata": {},
     "output_type": "execute_result"
    }
   ],
   "source": [
    "df_attacks['Species'].value_counts()"
   ]
  },
  {
   "cell_type": "code",
   "execution_count": 84,
   "id": "158699cf",
   "metadata": {},
   "outputs": [
    {
     "data": {
      "text/plain": [
       "Shark involvement prior to death was not confirmed                                           56\n",
       "Shark involvement prior to death not confirmed                                                9\n",
       "Shark involvement prior to death suspected but not confirmed                                  2\n",
       "Shark involvement prior to death still to be determined                                       1\n",
       "Reported by media as shark attack, but shark involvement prior to death was not confirmed     1\n",
       "Shark involvement prior to death unconfired                                                   1\n",
       "Shark involvement prior to death could not be determined                                      1\n",
       "Shark involvement prior to death remains unconfirmed                                          1\n",
       "Name: Species, dtype: int64"
      ]
     },
     "execution_count": 84,
     "metadata": {},
     "output_type": "execute_result"
    }
   ],
   "source": [
    "df_attacks['Species'][df_attacks['Species'].str.contains(('confirmed') and ('death'))].value_counts()"
   ]
  },
  {
   "cell_type": "code",
   "execution_count": 91,
   "id": "32681ea9",
   "metadata": {},
   "outputs": [
    {
     "data": {
      "text/plain": [
       "Shark involvement prior to death was not confirmed    72\n",
       "Name: Species, dtype: int64"
      ]
     },
     "execution_count": 91,
     "metadata": {},
     "output_type": "execute_result"
    }
   ],
   "source": [
    "df_attacks['Species'] = df_attacks['Species'].apply\\\n",
    "(lambda x: 'Shark involvement prior to death was not confirmed'\\\n",
    " if x == 'Shark involvement prior to death not confirmed' else x)\n",
    "\n",
    "df_attacks['Species'] = df_attacks['Species'].apply\\\n",
    "(lambda x: 'Shark involvement prior to death was not confirmed'\\\n",
    " if x == 'Shark involvement prior to death suspected but not confirmed' else x)\n",
    "\n",
    "df_attacks['Species'] = df_attacks['Species'].apply\\\n",
    "(lambda x: 'Shark involvement prior to death was not confirmed'\\\n",
    " if x == 'Shark involvement prior to death still to be determined' else x)\n",
    "\n",
    "df_attacks['Species'] = df_attacks['Species'].apply\\\n",
    "(lambda x: 'Shark involvement prior to death was not confirmed'\\\n",
    " if x == 'Reported by media as shark attack, but shark involvement prior to death was not confirmed' else x)\n",
    "\n",
    "df_attacks['Species'] = df_attacks['Species'].apply\\\n",
    "(lambda x: 'Shark involvement prior to death was not confirmed'\\\n",
    " if x == 'Shark involvement prior to death unconfired' else x)\n",
    "\n",
    "df_attacks['Species'] = df_attacks['Species'].apply\\\n",
    "(lambda x: 'Shark involvement prior to death was not confirmed'\\\n",
    " if x == 'Shark involvement prior to death could not be determined' else x)\n",
    "\n",
    "df_attacks['Species'] = df_attacks['Species'].apply\\\n",
    "(lambda x: 'Shark involvement prior to death was not confirmed'\\\n",
    " if x == 'Shark involvement prior to death remains unconfirmed' else x)\n",
    "\n",
    "df_attacks['Species'][df_attacks['Species'].str.contains(('confirmed') and ('death'))].value_counts()"
   ]
  },
  {
   "cell_type": "code",
   "execution_count": 92,
   "id": "f72b9539",
   "metadata": {},
   "outputs": [
    {
     "data": {
      "text/plain": [
       "UNKNOWN                                                                     1206\n",
       "White shark                                                                  121\n",
       "Shark involvement prior to death was not confirmed                            72\n",
       "Shark involvement not confirmed                                               69\n",
       "Tiger shark                                                                   49\n",
       "                                                                            ... \n",
       "A 10-year-old 94-pound pregnant blacktip reef shark                            1\n",
       "Lesser spotted dogfish, Scyliorhinus canicula, less than 80 cm in length       1\n",
       "White shark, 2m                                                                1\n",
       "Lemon shark, >1 m                                                              1\n",
       "White shark, identified by tooth fragments in surfboard                        1\n",
       "Name: Species, Length: 1050, dtype: int64"
      ]
     },
     "execution_count": 92,
     "metadata": {},
     "output_type": "execute_result"
    }
   ],
   "source": [
    "df_attacks['Species'].value_counts()"
   ]
  },
  {
   "cell_type": "code",
   "execution_count": 96,
   "id": "201fcc2e",
   "metadata": {},
   "outputs": [
    {
     "data": {
      "text/plain": [
       "Shark involvement prior to death was not confirmed                                                 72\n",
       "Shark involvement not confirmed                                                                    69\n",
       "Shark involvement suspected but not confirmed                                                       3\n",
       "Shark involvement unconfirmed                                                                       1\n",
       "White shark, 3.5 m [11.5'], species identity confirmed by tooth fragment                            1\n",
       "Said to involve a white shark but shark involvement not confirmed                                   1\n",
       "2.4 m [8'] white shark, species identity confirmed by witnesses & tooth pattern in surfboard        1\n",
       "2.4 m [8'] white shark, species identity confirmed by tooth fragment                                1\n",
       "Shark involvement not confirmed; officials considered barracua                                      1\n",
       "Doubtful / Unconfirmed attack / Unable to verify in local records                                   1\n",
       "Shark involvement  not confirmed                                                                    1\n",
       "Shark involvement not confirmed, injury may be due to a stingray                                    1\n",
       "Shark involvement not confirmed, injury may have been caused by a bluefish                          1\n",
       "Shark involvement not confirmed; thought to be a barracuda bite                                     1\n",
       "Shark involvement probable, but not confirmed                                                       1\n",
       "shark involvement not confirmed                                                                     1\n",
       "Shark involvement not confirmed & highly unlikely                                                   1\n",
       "Thought to involve a 3' to 4' shark, but shark involvement not confirmed                            1\n",
       "White shark, 3 m [10'], species identity confirmed by witnesses & tooth pattern in leg & board      1\n",
       "Name: Species, dtype: int64"
      ]
     },
     "execution_count": 96,
     "metadata": {},
     "output_type": "execute_result"
    }
   ],
   "source": [
    "df_attacks['Species'][df_attacks['Species'].str.contains(('confirmed'))].value_counts()"
   ]
  },
  {
   "cell_type": "code",
   "execution_count": 99,
   "id": "448e22dd",
   "metadata": {},
   "outputs": [
    {
     "data": {
      "text/plain": [
       "Shark involvement not confirmed                                                                    84\n",
       "Shark involvement prior to death was not confirmed                                                 72\n",
       "2.4 m [8'] white shark, species identity confirmed by tooth fragment                                1\n",
       "2.4 m [8'] white shark, species identity confirmed by witnesses & tooth pattern in surfboard        1\n",
       "White shark, 3.5 m [11.5'], species identity confirmed by tooth fragment                            1\n",
       "White shark, 3 m [10'], species identity confirmed by witnesses & tooth pattern in leg & board      1\n",
       "Name: Species, dtype: int64"
      ]
     },
     "execution_count": 99,
     "metadata": {},
     "output_type": "execute_result"
    }
   ],
   "source": [
    "df_attacks['Species'] = df_attacks['Species'].apply\\\n",
    "(lambda x: 'Shark involvement not confirmed'\\\n",
    " if x == 'Shark involvement suspected but not confirmed' else x)\n",
    "\n",
    "df_attacks['Species'] = df_attacks['Species'].apply\\\n",
    "(lambda x: 'Shark involvement not confirmed'\\\n",
    " if x == 'Shark involvement unconfirmed' else x)\n",
    "\n",
    "df_attacks['Species'] = df_attacks['Species'].apply\\\n",
    "(lambda x: 'Shark involvement not confirmed'\\\n",
    " if x == 'Said to involve a white shark but shark involvement not confirmed' else x)\n",
    "\n",
    "df_attacks['Species'] = df_attacks['Species'].apply\\\n",
    "(lambda x: 'Shark involvement not confirmed'\\\n",
    " if x == 'Shark involvement not confirmed; officials considered barracua' else x)\n",
    "\n",
    "df_attacks['Species'] = df_attacks['Species'].apply\\\n",
    "(lambda x: 'Shark involvement not confirmed'\\\n",
    " if x == 'Doubtful / Unconfirmed attack / Unable to verify in local records' else x)\n",
    "\n",
    "df_attacks['Species'] = df_attacks['Species'].apply\\\n",
    "(lambda x: 'Shark involvement not confirmed'\\\n",
    " if x == 'Shark involvement  not confirmed' else x)\n",
    "\n",
    "df_attacks['Species'] = df_attacks['Species'].apply\\\n",
    "(lambda x: 'Shark involvement not confirmed'\\\n",
    " if x == 'Shark involvement not confirmed, injury may be due to a stingray' else x)\n",
    "\n",
    "df_attacks['Species'] = df_attacks['Species'].apply\\\n",
    "(lambda x: 'Shark involvement not confirmed'\\\n",
    " if x == 'Shark involvement not confirmed, injury may have been caused by a bluefish' else x)\n",
    "\n",
    "df_attacks['Species'] = df_attacks['Species'].apply\\\n",
    "(lambda x: 'Shark involvement not confirmed'\\\n",
    " if x == 'Shark involvement not confirmed; thought to be a barracuda bite' else x)\n",
    "\n",
    "df_attacks['Species'] = df_attacks['Species'].apply\\\n",
    "(lambda x: 'Shark involvement not confirmed'\\\n",
    " if x == 'Shark involvement probable, but not confirmed' else x)\n",
    "\n",
    "df_attacks['Species'] = df_attacks['Species'].apply\\\n",
    "(lambda x: 'Shark involvement not confirmed'\\\n",
    " if x == 'shark involvement not confirmed' else x)\n",
    "\n",
    "df_attacks['Species'] = df_attacks['Species'].apply\\\n",
    "(lambda x: 'Shark involvement not confirmed'\\\n",
    " if x == 'Shark involvement not confirmed & highly unlikely' else x)\n",
    "\n",
    "df_attacks['Species'] = df_attacks['Species'].apply\\\n",
    "(lambda x: 'Shark involvement not confirmed'\\\n",
    " if x == \"Thought to involve a 3' to 4' shark, but shark involvement not confirmed\" else x)\n",
    "\n",
    "df_attacks['Species'][df_attacks['Species'].str.contains(('confirmed'))].value_counts()"
   ]
  },
  {
   "cell_type": "code",
   "execution_count": 105,
   "id": "7a79cd04",
   "metadata": {},
   "outputs": [
    {
     "data": {
      "text/plain": [
       "Shark involvement not confirmed                                                                                                                                                            84\n",
       "Shark involvement prior to death was not confirmed                                                                                                                                         72\n",
       "No shark involvement                                                                                                                                                                       21\n",
       "Shark involvement questionable                                                                                                                                                              3\n",
       "Shark involvement not cofirmed                                                                                                                                                              2\n",
       "Shark involvement doubtful                                                                                                                                                                  2\n",
       "Shark involvement highly doubtful                                                                                                                                                           1\n",
       "Mr. Burgess of ISAF announced the injury was the bite of a 1.8 m [6'], 2- to 3-year old white shark. Subsequent investigation revealed there was  no shark involvement in this incident     1\n",
       "Shark involvement  questionable                                                                                                                                                             1\n",
       "Name: Species, dtype: int64"
      ]
     },
     "execution_count": 105,
     "metadata": {},
     "output_type": "execute_result"
    }
   ],
   "source": [
    "df_attacks['Species'][df_attacks['Species'].str.contains(('involvement'))].value_counts()"
   ]
  },
  {
   "cell_type": "code",
   "execution_count": 106,
   "id": "6185c2e4",
   "metadata": {},
   "outputs": [
    {
     "data": {
      "text/plain": [
       "Shark involvement not confirmed                                                                    114\n",
       "Shark involvement prior to death was not confirmed                                                  72\n",
       "2.4 m [8'] white shark, species identity confirmed by tooth fragment                                 1\n",
       "2.4 m [8'] white shark, species identity confirmed by witnesses & tooth pattern in surfboard         1\n",
       "White shark, 3.5 m [11.5'], species identity confirmed by tooth fragment                             1\n",
       "White shark, 3 m [10'], species identity confirmed by witnesses & tooth pattern in leg & board       1\n",
       "Name: Species, dtype: int64"
      ]
     },
     "execution_count": 106,
     "metadata": {},
     "output_type": "execute_result"
    }
   ],
   "source": [
    "df_attacks['Species'] = df_attacks['Species'].apply\\\n",
    "(lambda x: 'Shark involvement not confirmed'\\\n",
    " if x == 'No shark involvement' else x)\n",
    "\n",
    "df_attacks['Species'] = df_attacks['Species'].apply\\\n",
    "(lambda x: 'Shark involvement not confirmed'\\\n",
    " if x == 'Shark involvement questionable' else x)\n",
    "\n",
    "df_attacks['Species'] = df_attacks['Species'].apply\\\n",
    "(lambda x: 'Shark involvement not confirmed'\\\n",
    " if x == 'Shark involvement questionable' else x)\n",
    "\n",
    "df_attacks['Species'] = df_attacks['Species'].apply\\\n",
    "(lambda x: 'Shark involvement not confirmed'\\\n",
    " if x == 'Shark involvement not cofirmed' else x)\n",
    "\n",
    "df_attacks['Species'] = df_attacks['Species'].apply\\\n",
    "(lambda x: 'Shark involvement not confirmed'\\\n",
    " if x == 'Shark involvement doubtful' else x)\n",
    "\n",
    "df_attacks['Species'] = df_attacks['Species'].apply\\\n",
    "(lambda x: 'Shark involvement not confirmed'\\\n",
    " if x == 'Shark involvement highly doubtful' else x)\n",
    "\n",
    "df_attacks['Species'] = df_attacks['Species'].apply\\\n",
    "(lambda x: 'Shark involvement not confirmed'\\\n",
    " if x == \"Mr. Burgess of ISAF announced the injury was the bite of a 1.8 m [6'], 2- to 3-year old white shark. Subsequent investigation revealed there was  no shark involvement in this incident\" else x)\n",
    "\n",
    "df_attacks['Species'][df_attacks['Species'].str.contains(('confirmed'))].value_counts()"
   ]
  },
  {
   "cell_type": "markdown",
   "id": "97541b90",
   "metadata": {},
   "source": [
    "Need to check if thoses `Shark involvement prior to death was not confirmed` are recorded as fatal attack."
   ]
  },
  {
   "cell_type": "code",
   "execution_count": 107,
   "id": "0e049ee2",
   "metadata": {},
   "outputs": [
    {
     "data": {
      "text/plain": [
       "UNKNOWN    68\n",
       "Y           3\n",
       "N           1\n",
       "Name: Fatal (Y/N), dtype: int64"
      ]
     },
     "execution_count": 107,
     "metadata": {},
     "output_type": "execute_result"
    }
   ],
   "source": [
    "df_attacks['Fatal (Y/N)'][df_attacks['Species'] == 'Shark involvement prior to death was not confirmed'].value_counts()"
   ]
  },
  {
   "cell_type": "code",
   "execution_count": 109,
   "id": "9af20ab3",
   "metadata": {},
   "outputs": [
    {
     "data": {
      "text/plain": [
       "UNKNOWN    104\n",
       "N           10\n",
       "Name: Fatal (Y/N), dtype: int64"
      ]
     },
     "execution_count": 109,
     "metadata": {},
     "output_type": "execute_result"
    }
   ],
   "source": [
    "df_attacks['Fatal (Y/N)'][df_attacks['Species'] == 'Shark involvement not confirmed'].value_counts()"
   ]
  },
  {
   "cell_type": "markdown",
   "id": "8ab1e566",
   "metadata": {},
   "source": [
    "Most of the \"not confirmed shark involvement\" prior to death or not is reported as `UNKNOWN` if it was fatal or not.\n",
    ","
   ]
  },
  {
   "cell_type": "markdown",
   "id": "56f56e69",
   "metadata": {},
   "source": [
    "---"
   ]
  },
  {
   "cell_type": "code",
   "execution_count": 53,
   "id": "a60e159d",
   "metadata": {},
   "outputs": [
    {
     "data": {
      "text/plain": [
       "50"
      ]
     },
     "execution_count": 53,
     "metadata": {},
     "output_type": "execute_result"
    }
   ],
   "source": [
    "len(df_attacks['Year'].value_counts())"
   ]
  },
  {
   "cell_type": "code",
   "execution_count": 54,
   "id": "363a9f63",
   "metadata": {},
   "outputs": [
    {
     "data": {
      "text/plain": [
       "Area                \n",
       "Pernambuco              73\n",
       "Rio de Janeiro          10\n",
       "Maranhão                 5\n",
       "Bahia                    3\n",
       "Rio Grande de Norte      2\n",
       "Alagoas                  1\n",
       "Balneário Camboriú       1\n",
       "Boi Island, Victoria     1\n",
       "Fernando de Noronha      1\n",
       "Rio Grande Do Sul        1\n",
       "Santa Catarina State     1\n",
       "dtype: int64"
      ]
     },
     "execution_count": 54,
     "metadata": {},
     "output_type": "execute_result"
    }
   ],
   "source": [
    "pd.set_option('display.max_colwidth', None)\n",
    "df_attacks.query('\"BRAZIL\" in Country')[['Area']].value_counts()"
   ]
  },
  {
   "cell_type": "code",
   "execution_count": 55,
   "id": "4a11f7e4",
   "metadata": {},
   "outputs": [
    {
     "name": "stderr",
     "output_type": "stream",
     "text": [
      "<ipython-input-55-4acbd40f18fb>:1: UserWarning: Boolean Series key will be reindexed to match DataFrame index.\n",
      "  df_attacks.query('\"AUSTRALIA\" in Country')[df_attacks[\"Fatal (Y/N)\"]==\"Y\"]['Activity'].value_counts()\n"
     ]
    },
    {
     "data": {
      "text/plain": [
       "surfing     19\n",
       "diving      19\n",
       "swimming    11\n",
       "other        7\n",
       "fishing      6\n",
       "unknown      3\n",
       "Name: Activity, dtype: int64"
      ]
     },
     "execution_count": 55,
     "metadata": {},
     "output_type": "execute_result"
    }
   ],
   "source": [
    "df_attacks.query('\"AUSTRALIA\" in Country')[df_attacks[\"Fatal (Y/N)\"]==\"Y\"]['Activity'].value_counts()"
   ]
  },
  {
   "cell_type": "code",
   "execution_count": 56,
   "id": "da6e50d5",
   "metadata": {},
   "outputs": [
    {
     "data": {
      "text/html": [
       "<div>\n",
       "<style scoped>\n",
       "    .dataframe tbody tr th:only-of-type {\n",
       "        vertical-align: middle;\n",
       "    }\n",
       "\n",
       "    .dataframe tbody tr th {\n",
       "        vertical-align: top;\n",
       "    }\n",
       "\n",
       "    .dataframe thead th {\n",
       "        text-align: right;\n",
       "    }\n",
       "</style>\n",
       "<table border=\"1\" class=\"dataframe\">\n",
       "  <thead>\n",
       "    <tr style=\"text-align: right;\">\n",
       "      <th></th>\n",
       "      <th></th>\n",
       "      <th>Activity</th>\n",
       "    </tr>\n",
       "    <tr>\n",
       "      <th>Year</th>\n",
       "      <th>Activity</th>\n",
       "      <th></th>\n",
       "    </tr>\n",
       "  </thead>\n",
       "  <tbody>\n",
       "    <tr>\n",
       "      <th rowspan=\"5\" valign=\"top\">1969.0</th>\n",
       "      <th>diving</th>\n",
       "      <td>9</td>\n",
       "    </tr>\n",
       "    <tr>\n",
       "      <th>fishing</th>\n",
       "      <td>4</td>\n",
       "    </tr>\n",
       "    <tr>\n",
       "      <th>other</th>\n",
       "      <td>2</td>\n",
       "    </tr>\n",
       "    <tr>\n",
       "      <th>surfing</th>\n",
       "      <td>4</td>\n",
       "    </tr>\n",
       "    <tr>\n",
       "      <th>swimming</th>\n",
       "      <td>2</td>\n",
       "    </tr>\n",
       "    <tr>\n",
       "      <th>...</th>\n",
       "      <th>...</th>\n",
       "      <td>...</td>\n",
       "    </tr>\n",
       "    <tr>\n",
       "      <th rowspan=\"5\" valign=\"top\">2018.0</th>\n",
       "      <th>standing</th>\n",
       "      <td>2</td>\n",
       "    </tr>\n",
       "    <tr>\n",
       "      <th>surfing</th>\n",
       "      <td>19</td>\n",
       "    </tr>\n",
       "    <tr>\n",
       "      <th>swimming</th>\n",
       "      <td>9</td>\n",
       "    </tr>\n",
       "    <tr>\n",
       "      <th>unknown</th>\n",
       "      <td>1</td>\n",
       "    </tr>\n",
       "    <tr>\n",
       "      <th>wading</th>\n",
       "      <td>1</td>\n",
       "    </tr>\n",
       "  </tbody>\n",
       "</table>\n",
       "<p>385 rows × 1 columns</p>\n",
       "</div>"
      ],
      "text/plain": [
       "                 Activity\n",
       "Year   Activity          \n",
       "1969.0 diving           9\n",
       "       fishing          4\n",
       "       other            2\n",
       "       surfing          4\n",
       "       swimming         2\n",
       "...                   ...\n",
       "2018.0 standing         2\n",
       "       surfing         19\n",
       "       swimming         9\n",
       "       unknown          1\n",
       "       wading           1\n",
       "\n",
       "[385 rows x 1 columns]"
      ]
     },
     "execution_count": 56,
     "metadata": {},
     "output_type": "execute_result"
    }
   ],
   "source": [
    "df_attacks.groupby(by=['Year', 'Activity'], as_index=True).agg({'Activity' : 'count'})"
   ]
  },
  {
   "cell_type": "code",
   "execution_count": null,
   "id": "33adb7fb",
   "metadata": {},
   "outputs": [],
   "source": []
  }
 ],
 "metadata": {
  "kernelspec": {
   "display_name": "Python 3",
   "language": "python",
   "name": "python3"
  },
  "language_info": {
   "codemirror_mode": {
    "name": "ipython",
    "version": 3
   },
   "file_extension": ".py",
   "mimetype": "text/x-python",
   "name": "python",
   "nbconvert_exporter": "python",
   "pygments_lexer": "ipython3",
   "version": "3.9.4"
  }
 },
 "nbformat": 4,
 "nbformat_minor": 5
}
